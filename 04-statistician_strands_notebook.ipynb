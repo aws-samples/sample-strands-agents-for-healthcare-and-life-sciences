{
 "cells": [
  {
   "cell_type": "markdown",
   "id": "24cee39a-a77d-4493-a532-56935aa07fd8",
   "metadata": {
    "tags": []
   },
   "source": [
    "# Statistician Agent with Strands\n",
    "In this notebook we create the statistician agent using the open-source Strands agents framework"
   ]
  },
  {
   "cell_type": "markdown",
   "id": "3c401dd7-dd66-44cd-a02a-fcdd95d98605",
   "metadata": {},
   "source": [
    "#### Install Strands agents and required dependencies"
   ]
  },
  {
   "cell_type": "code",
   "execution_count": null,
   "id": "install-strands",
   "metadata": {},
   "outputs": [],
   "source": [
    "%pip install strands-agents strands-agents-tools boto3 requests --quiet"
   ]
  },
  {
   "cell_type": "markdown",
   "id": "environment-check",
   "metadata": {},
   "source": [
    "#### Ensure the latest version of boto3 is shown below\n",
    "Ensure the boto3 version printed below is **1.39.3** or higher."
   ]
  },
  {
   "cell_type": "code",
   "execution_count": null,
   "id": "73745fd0-9df8-4f95-b58e-843c958840ac",
   "metadata": {
    "tags": []
   },
   "outputs": [],
   "source": [
    "%pip show boto3"
   ]
  },
  {
   "cell_type": "markdown",
   "id": "8ef228e7-54c0-4925-8c06-6d172ab3286c",
   "metadata": {},
   "source": [
    "#### Import required libraries"
   ]
  },
  {
   "cell_type": "code",
   "execution_count": null,
   "id": "326e5a42",
   "metadata": {},
   "outputs": [],
   "source": [
    "from utils.magic_helper import register_cell_magic"
   ]
  },
  {
   "cell_type": "code",
   "execution_count": null,
   "id": "ae4b0cf3-76bf-4287-9b40-cc14566ebf8b",
   "metadata": {
    "tags": []
   },
   "outputs": [],
   "source": [
    "%%write_and_run statistician_agent.py\n",
    "\n",
    "import boto3\n",
    "import json\n",
    "import uuid\n",
    "import requests\n",
    "from typing import Dict, Any, List\n",
    "from strands import Agent, tool\n",
    "from strands.models import BedrockModel\n",
    "\n",
    "# Get AWS account information\n",
    "sts_client = boto3.client('sts')\n",
    "account_id = sts_client.get_caller_identity()['Account']\n",
    "region = boto3.Session().region_name"
   ]
  },
  {
   "cell_type": "markdown",
   "id": "8c5ecfce-78c8-4721-a4e6-35a7745d8871",
   "metadata": {
    "tags": []
   },
   "source": [
    "# Prerequisites\n",
    "\n",
    "This notebook assumes that you have deployed the CloudFormation stack located at https://github.com/aws-samples/amazon-bedrock-agents-cancer-biomarker-discovery to your AWS account in workshop mode."
   ]
  },
  {
   "cell_type": "markdown",
   "id": "setup-lambda",
   "metadata": {},
   "source": [
    "#### Setup Lambda function configuration\n",
    "We'll reuse the existing Lambda functions for statistical operations"
   ]
  },
  {
   "cell_type": "code",
   "execution_count": null,
   "id": "lambda-config",
   "metadata": {},
   "outputs": [],
   "source": [
    "%%write_and_run -a statistician_agent.py\n",
    "\n",
    "# Lambda function configurations (reusing existing infrastructure)\n",
    "bar_chart_lambda_function_name = \"MatPlotBarChartLambda\"  # Change if different in your account\n",
    "scientific_plot_lambda_function_name = \"ScientificPlotLambda\"  # Change if different in your account\n",
    "\n",
    "bar_chart_lambda_function_arn = f\"arn:aws:lambda:{region}:{account_id}:function:{bar_chart_lambda_function_name}\"\n",
    "scientific_plot_lambda_function_arn = f\"arn:aws:lambda:{region}:{account_id}:function:{scientific_plot_lambda_function_name}\"\n",
    "\n",
    "# Initialize AWS clients\n",
    "lambda_client = boto3.client('lambda', region_name=region)\n",
    "bedrock_client = boto3.client('bedrock-runtime', region_name=region)\n",
    "\n",
    "print(f\"Bar Chart Lambda ARN: {bar_chart_lambda_function_arn}\")\n",
    "print(f\"Scientific Plot Lambda ARN: {scientific_plot_lambda_function_arn}\")\n",
    "print(f\"Region: {region}\")\n",
    "print(f\"Account ID: {account_id}\")"
   ]
  },
  {
   "cell_type": "markdown",
   "id": "96053d0a-6dfd-4623-aea4-d7eaedc6dc63",
   "metadata": {
    "tags": []
   },
   "source": [
    "# Strands Agent Creation\n",
    "In this section we create the statistician agent using the Strands framework"
   ]
  },
  {
   "cell_type": "markdown",
   "id": "3e974c4f-200d-499a-ba94-70de02a88486",
   "metadata": {},
   "source": [
    "#### Define agent configuration and instructions"
   ]
  },
  {
   "cell_type": "code",
   "execution_count": null,
   "id": "11e88b67-5f84-45be-90af-673c11730230",
   "metadata": {
    "tags": []
   },
   "outputs": [],
   "source": [
    "%%write_and_run -a statistician_agent.py\n",
    "\n",
    "statistician_agent_name = 'Statistician-strands'\n",
    "statistician_agent_description = \"scientific analysis for survival analysis using Strands framework\"\n",
    "statistician_agent_instruction = \"\"\"You are a medical research assistant AI specialized in survival analysis with biomarkers. \n",
    "Your primary job is to interpret user queries, run scientific analysis tasks, and provide relevant medical insights \n",
    "with available visualization tools. Use only the appropriate tools as required by the specific question. \n",
    "Follow these instructions carefully: \n",
    "\n",
    "1. If the user query requires a Kaplan-Meier chart: \n",
    "   a. Map survival status as 0 for Alive and 1 for Dead for the event parameter. \n",
    "   b. Use survival duration as the duration parameter. \n",
    "   c. Use the group_survival_data tool to create baseline and condition group based on expression value threshold provided by the user. \n",
    "\n",
    "2. If a survival regression analysis is needed: \n",
    "   a. You need access to all records with columns start with survival status as first column, then survival duration, and the required biomarkers. \n",
    "   b. Use the fit_survival_regression tool to identify the best-performing biomarker based on the p-value summary. \n",
    "   c. Ask for S3 data location if not provided, do not assume S3 bucket names or object names. \n",
    "\n",
    "3. When you need to create a bar chart or plot: \n",
    "   a. Always pass x_values and y_values in Array type to the function. \n",
    "   If the user says x values are apple,egg and y values are 3,4 or as [apple,egg] and [3,4] pass their value as \n",
    "   ['apple', 'egg'] and [3,4] \n",
    "\n",
    "4. When providing your response: \n",
    "   a. Start with a brief summary of your understanding of the user's query. \n",
    "   b. Explain the steps you're taking to address the query. \n",
    "   Ask for clarifications from the user if required. \n",
    "   c. If you generate any charts or perform statistical analyses, \n",
    "   explain their significance in the context of the user's query. \n",
    "   d. Conclude with a concise summary of the findings and their potential implications for medical research. \n",
    "   e. Make sure to explain any medical or statistical concepts in a clear, accessible manner.\n",
    "\"\"\" "
   ]
  },
  {
   "cell_type": "markdown",
   "id": "lambda-tools",
   "metadata": {},
   "source": [
    "#### Define tools for Strands agent\n",
    "These tools will invoke different services to perform operations for the agent"
   ]
  },
  {
   "cell_type": "code",
   "execution_count": null,
   "id": "create-tools",
   "metadata": {},
   "outputs": [],
   "source": [
    "%%write_and_run -a statistician_agent.py\n",
    "\n",
    "def invoke_lambda_function(function_arn: str, operation: str, payload: Dict[str, Any] = None) -> Dict[str, Any]:\n",
    "    \"\"\"\n",
    "    Helper function to invoke the existing Lambda functions with Bedrock Agent compatible event structure\n",
    "    \"\"\"\n",
    "    if payload is None:\n",
    "        payload = {}\n",
    "    \n",
    "    # Prepare the event payload to match what the Lambda function expects from Bedrock Agents\n",
    "    if operation == 'bar_chart':\n",
    "        event = {\n",
    "            'agent': 'strands-agent',\n",
    "            'actionGroup': 'matplotbarchart',\n",
    "            'function': 'bar_chart',\n",
    "            'messageVersion': '1.0',\n",
    "            'parameters': [\n",
    "                {\n",
    "                    'name': 'title',\n",
    "                    'type': 'string',\n",
    "                    'value': payload.get('title', '')\n",
    "                },\n",
    "                {\n",
    "                    'name': 'x_label',\n",
    "                    'type': 'string',\n",
    "                    'value': payload.get('x_label', '')\n",
    "                },\n",
    "                {\n",
    "                    'name': 'x_values',\n",
    "                    'type': 'array',\n",
    "                    'value': json.dumps(payload.get('x_values', []))  # Convert to JSON string\n",
    "                },\n",
    "                {\n",
    "                    'name': 'y_label',\n",
    "                    'type': 'string',\n",
    "                    'value': payload.get('y_label', '')\n",
    "                },\n",
    "                {\n",
    "                    'name': 'y_values',\n",
    "                    'type': 'array',\n",
    "                    'value': str(payload.get('y_values', []))  # Convert to string representation\n",
    "                }\n",
    "            ],\n",
    "            'sessionAttributes': {},\n",
    "            'promptSessionAttributes': {}\n",
    "        }\n",
    "    elif operation == 'plot_kaplan_meier':\n",
    "        event = {\n",
    "            'agent': 'strands-agent',\n",
    "            'actionGroup': 'scientificAnalysisActionGroup',\n",
    "            'function': 'plot_kaplan_meier',\n",
    "            'messageVersion': '1.0',\n",
    "            'parameters': [\n",
    "                {\n",
    "                    'name': 'biomarker_name',\n",
    "                    'type': 'string',\n",
    "                    'value': payload.get('biomarker_name', '')\n",
    "                },\n",
    "                {\n",
    "                    'name': 'duration_baseline',\n",
    "                    'type': 'array',\n",
    "                    'value': str(payload.get('duration_baseline', []))  # Convert to string\n",
    "                },\n",
    "                {\n",
    "                    'name': 'duration_condition',\n",
    "                    'type': 'array',\n",
    "                    'value': str(payload.get('duration_condition', []))  # Convert to string\n",
    "                },\n",
    "                {\n",
    "                    'name': 'event_baseline',\n",
    "                    'type': 'array',\n",
    "                    'value': str(payload.get('event_baseline', []))  # Convert to string\n",
    "                },\n",
    "                {\n",
    "                    'name': 'event_condition',\n",
    "                    'type': 'array',\n",
    "                    'value': str(payload.get('event_condition', []))  # Convert to string\n",
    "                }\n",
    "            ],\n",
    "            'sessionAttributes': {},\n",
    "            'promptSessionAttributes': {}\n",
    "        }\n",
    "    elif operation == 'fit_survival_regression':\n",
    "        event = {\n",
    "            'agent': 'strands-agent',\n",
    "            'actionGroup': 'scientificAnalysisActionGroup',\n",
    "            'function': 'fit_survival_regression',\n",
    "            'messageVersion': '1.0',\n",
    "            'parameters': [\n",
    "                {\n",
    "                    'name': 'bucket',\n",
    "                    'type': 'string',\n",
    "                    'value': payload.get('bucket', '')\n",
    "                },\n",
    "                {\n",
    "                    'name': 'key',\n",
    "                    'type': 'string',\n",
    "                    'value': payload.get('key', '')\n",
    "                }\n",
    "            ],\n",
    "            'sessionAttributes': {},\n",
    "            'promptSessionAttributes': {}\n",
    "        }\n",
    "    else:\n",
    "        raise ValueError(f\"Unknown operation: {operation}\")\n",
    "    \n",
    "    try:\n",
    "        response = lambda_client.invoke(\n",
    "            FunctionName=function_arn,\n",
    "            InvocationType='RequestResponse',\n",
    "            Payload=json.dumps(event)\n",
    "        )\n",
    "        \n",
    "        result = json.loads(response['Payload'].read())\n",
    "        \n",
    "        # Extract the actual result from the response\n",
    "        if isinstance(result, dict) and 'response' in result:\n",
    "            return result['response']\n",
    "        \n",
    "        return result\n",
    "        \n",
    "    except Exception as e:\n",
    "        return {\"error\": str(e)}\n",
    "\n",
    "# Define the tools using Strands @tool decorator\n",
    "@tool\n",
    "def create_bar_chart(title: str, x_label: str, x_values: List[str], y_label: str, y_values: List[float]) -> str:\n",
    "    \"\"\"\n",
    "    Create a bar chart with the specified parameters.\n",
    "    \n",
    "    Args:\n",
    "        title (str): Title of the bar chart\n",
    "        x_label (str): Label for the x-axis\n",
    "        x_values (List[str]): Values for the x-axis (categories)\n",
    "        y_label (str): Label for the y-axis\n",
    "        y_values (List[float]): Values for the y-axis (numerical data)\n",
    "    \n",
    "    Returns:\n",
    "        str: Result of the bar chart creation\n",
    "    \"\"\"\n",
    "    payload = {\n",
    "        'title': title,\n",
    "        'x_label': x_label,\n",
    "        'x_values': x_values,\n",
    "        'y_label': y_label,\n",
    "        'y_values': y_values\n",
    "    }\n",
    "    \n",
    "    print(f\"\\nBar Chart Input: {json.dumps(payload, indent=2)}\\n\")\n",
    "    result = invoke_lambda_function(bar_chart_lambda_function_arn, 'bar_chart', payload)\n",
    "    print(f\"\\nBar Chart Output: {json.dumps(result, indent=2)}\\n\")\n",
    "    return json.dumps(result, indent=2)\n",
    "\n",
    "@tool\n",
    "def plot_kaplan_meier(biomarker_name: str, duration_baseline: List[float], duration_condition: List[float], \n",
    "                     event_baseline: List[int], event_condition: List[int]) -> str:\n",
    "    \"\"\"\n",
    "    Create a Kaplan-Meier survival plot for comparing two groups.\n",
    "    \n",
    "    Args:\n",
    "        biomarker_name (str): Name of the biomarker being analyzed\n",
    "        duration_baseline (List[float]): Survival duration in days for baseline group\n",
    "        duration_condition (List[float]): Survival duration in days for condition group\n",
    "        event_baseline (List[int]): Survival events for baseline (0=alive, 1=dead)\n",
    "        event_condition (List[int]): Survival events for condition (0=alive, 1=dead)\n",
    "    \n",
    "    Returns:\n",
    "        str: Result of the Kaplan-Meier plot creation\n",
    "    \"\"\"\n",
    "    payload = {\n",
    "        'biomarker_name': biomarker_name,\n",
    "        'duration_baseline': duration_baseline,\n",
    "        'duration_condition': duration_condition,\n",
    "        'event_baseline': event_baseline,\n",
    "        'event_condition': event_condition\n",
    "    }\n",
    "    \n",
    "    print(f\"\\nKaplan-Meier Input: {json.dumps(payload, indent=2)}\\n\")\n",
    "    result = invoke_lambda_function(scientific_plot_lambda_function_arn, 'plot_kaplan_meier', payload)\n",
    "    print(f\"\\nKaplan-Meier Output: {json.dumps(result, indent=2)}\\n\")\n",
    "    return json.dumps(result, indent=2)\n",
    "\n",
    "@tool\n",
    "def fit_survival_regression(bucket: str, key: str) -> str:\n",
    "    \"\"\"\n",
    "    Fit a survival regression model using data from an S3 object.\n",
    "    \n",
    "    Args:\n",
    "        bucket (str): S3 bucket where the data is stored\n",
    "        key (str): JSON file name in the S3 bucket containing the data for model fitting\n",
    "    \n",
    "    Returns:\n",
    "        str: Results of the survival regression analysis\n",
    "    \"\"\"\n",
    "    payload = {\n",
    "        'bucket': bucket,\n",
    "        'key': key\n",
    "    }\n",
    "    \n",
    "    print(f\"\\nSurvival Regression Input: {json.dumps(payload, indent=2)}\\n\")\n",
    "    result = invoke_lambda_function(scientific_plot_lambda_function_arn, 'fit_survival_regression', payload)\n",
    "    print(f\"\\nSurvival Regression Output: {json.dumps(result, indent=2)}\\n\")\n",
    "    return json.dumps(result, indent=2)\n",
    "\n",
    "# Create list of tools\n",
    "statistician_tools = [create_bar_chart, plot_kaplan_meier, fit_survival_regression]\n",
    "print(f\"Created {len(statistician_tools)} tools for the Strands agent\")"
   ]
  },
  {
   "cell_type": "markdown",
   "id": "create-provider",
   "metadata": {},
   "source": [
    "#### Setup AWS Bedrock provider for Strands"
   ]
  },
  {
   "cell_type": "code",
   "execution_count": null,
   "id": "setup-provider",
   "metadata": {},
   "outputs": [],
   "source": [
    "%%write_and_run -a statistician_agent.py\n",
    "\n",
    "# Create Bedrock model for Strands\n",
    "model = BedrockModel(\n",
    "    model_id=\"anthropic.claude-3-5-sonnet-20241022-v2:0\",\n",
    "    region_name=region,\n",
    "    temperature=0.1,\n",
    "    streaming=False\n",
    ")"
   ]
  },
  {
   "cell_type": "markdown",
   "id": "3d2b94bc-1ed8-4542-9315-1494d76d4445",
   "metadata": {},
   "source": [
    "#### Create the Strands agent"
   ]
  },
  {
   "cell_type": "code",
   "execution_count": null,
   "id": "37eb6515-56ec-4bf5-afc1-99f303add381",
   "metadata": {
    "tags": []
   },
   "outputs": [],
   "source": [
    "# Create the Strands agent\n",
    "try:\n",
    "    statistician_agent = Agent(\n",
    "        model=model,\n",
    "        tools=statistician_tools,\n",
    "        system_prompt=statistician_agent_instruction\n",
    "    )\n",
    "    \n",
    "    print(f\"Successfully created Strands agent: {statistician_agent_name}\")\n",
    "    print(f\"Agent has {len(statistician_tools)} tools available\")\n",
    "    \n",
    "except Exception as e:\n",
    "    print(f\"Error creating agent: {e}\")\n",
    "    raise"
   ]
  },
  {
   "cell_type": "markdown",
   "id": "test-agent",
   "metadata": {},
   "source": [
    "#### Test the Strands agent"
   ]
  },
  {
   "cell_type": "code",
   "execution_count": null,
   "id": "1f1dbd7b-b9c2-427b-b7e5-23961e64d877",
   "metadata": {
    "tags": []
   },
   "outputs": [],
   "source": [
    "# Test the agent with a bar chart creation\n",
    "test_query = \"\"\"Create me a bar chart for the top 5 gene biomarkers (e.g.,TP53, BRCA1, EGFR, KRAS, MYC)\n",
    "with respect to their prognostic significance in chemotherapy-treated patients.\n",
    "The Y-axis should represent –log10(p-value) from a Cox proportional hazards model assessing association with overall survival. \n",
    "Y-axis values are: 8.3, 6.7, 5.9, 4.2, 3.8\n",
    "\"\"\"\n",
    "\n",
    "print(f\"Testing agent with query: {test_query}\")\n",
    "print(\"=\" * 50)\n",
    "\n",
    "try:\n",
    "    # Run the agent\n",
    "    statistician_agent(test_query)\n",
    "except Exception as e:\n",
    "    print(f\"Error during agent execution: {e}\")\n",
    "    import traceback\n",
    "    traceback.print_exc()"
   ]
  },
  {
   "cell_type": "markdown",
   "id": "accessing-charts",
   "metadata": {},
   "source": [
    "#### Accessing the generated charts\n",
    "\n",
    "1. Go to S3 bucket which includes the string 'env-build'\n",
    "2. Navigate to **/Graphs** folder\n",
    "3. Select the recent chart files and click **Download**"
   ]
  },
  {
   "cell_type": "markdown",
   "id": "advanced-usage",
   "metadata": {},
   "source": [
    "#### Advanced usage examples"
   ]
  },
  {
   "cell_type": "code",
   "execution_count": null,
   "id": "advanced-examples",
   "metadata": {},
   "outputs": [],
   "source": [
    "# Example of more complex statistical analyses\n",
    "advanced_queries = [\n",
    "    \"\"\"Create a Kaplan-Meier survival plot comparing high vs low expression of EGFR biomarker.\n",
    "    Use the following sample data:\n",
    "    - Biomarker name: EGFR\n",
    "    - High expression group (baseline): survival durations in days [365, 420, 500, 180, 600, 720, 300, 450, 650, 380] \n",
    "      and survival events [0, 1, 0, 1, 0, 0, 1, 0, 0, 1] where 0=alive, 1=dead\n",
    "    - Low expression group (condition): survival durations in days [200, 150, 320, 280, 400, 180, 250, 350, 300, 220]\n",
    "      and survival events [1, 1, 0, 1, 0, 1, 1, 0, 1, 1] where 0=alive, 1=dead\"\"\",\n",
    "    \n",
    "    \"\"\"Generate a bar chart showing average survival duration across different cancer stages.\n",
    "    Create a bar chart with:\n",
    "    - Title: \"Average Survival Duration by Cancer Stage\"\n",
    "    - X-axis label: \"Cancer Stage\" \n",
    "    - X-axis values: [\"Stage I\", \"Stage II\", \"Stage III\", \"Stage IV\"]\n",
    "    - Y-axis label: \"Average Survival (months)\"\n",
    "    - Y-axis values: [36.5, 28.2, 18.7, 8.4]\"\"\",\n",
    "    \n",
    "    \"\"\"Create a Kaplan-Meier plot for TP53 mutation status comparing mutant vs wild-type patients.\n",
    "    Use this sample data:\n",
    "    - Biomarker name: TP53_mutation\n",
    "    - Wild-type group (baseline): survival durations [450, 380, 520, 290, 600, 340, 480, 390, 550, 420]\n",
    "      and events [0, 1, 0, 1, 0, 1, 0, 0, 0, 1]\n",
    "    - Mutant group (condition): survival durations [180, 220, 160, 240, 200, 190, 210, 170, 230, 195]\n",
    "      and events [1, 1, 1, 0, 1, 1, 0, 1, 1, 1]\"\"\",\n",
    "    \n",
    "    \"\"\"Generate a bar chart showing biomarker expression levels in smokers vs non-smokers.\n",
    "    Create a chart with:\n",
    "    - Title: \"Average Biomarker Expression: Smokers vs Non-smokers\"\n",
    "    - X-axis label: \"Patient Group\"\n",
    "    - X-axis values: [\"Current Smokers\", \"Former Smokers\", \"Never Smokers\"]\n",
    "    - Y-axis label: \"Average LRIG1 Expression Level\"\n",
    "    - Y-axis values: [15.2, 22.8, 28.4]\"\"\"\n",
    "]\n",
    "\n",
    "def test_advanced_query(query: str):\n",
    "    \"\"\"\n",
    "    Test an advanced query with the agent\n",
    "    \"\"\"\n",
    "    print(f\"\\nTesting query: {query}\")\n",
    "    print(\"-\" * 40)\n",
    "    \n",
    "    try:\n",
    "        statistician_agent(query)\n",
    "    except Exception as e:\n",
    "        print(f\"Error: {e}\")\n",
    "\n",
    "for query in advanced_queries[:1]:  # Test first query only\n",
    "    test_advanced_query(query)"
   ]
  },
  {
   "cell_type": "markdown",
   "id": "session-management",
   "metadata": {},
   "source": [
    "#### Session management and conversation continuity"
   ]
  },
  {
   "cell_type": "code",
   "execution_count": null,
   "id": "session-demo",
   "metadata": {},
   "outputs": [],
   "source": [
    "# Demonstrate conversation continuity\n",
    "def interactive_session():\n",
    "    \"\"\"\n",
    "    Simple interactive session with the agent\n",
    "    \"\"\"\n",
    "    print(\"Interactive Statistical Analysis Session\")\n",
    "    print(\"Type 'quit' to exit\")\n",
    "    print(\"=\" * 50)\n",
    "    \n",
    "    while True:\n",
    "        user_input = input(\"\\nYour question: \")\n",
    "        \n",
    "        if user_input.lower() in ['quit', 'exit', 'q']:\n",
    "            print(\"Session ended.\")\n",
    "            break\n",
    "            \n",
    "        try:\n",
    "            statistician_agent(user_input)\n",
    "        except Exception as e:\n",
    "            print(f\"Error: {e}\")\n",
    "\n",
    "interactive_session()"
   ]
  },
  {
   "cell_type": "markdown",
   "id": "summary",
   "metadata": {},
   "source": [
    "## Summary\n",
    "\n",
    "This notebook demonstrated how integrate Strands with a Lambda function.\n",
    "\n",
    "### Benefits of Strands Approach:\n",
    "- **Open source** - No vendor lock-in\n",
    "- **Cost effective** - Only pay for the underlying LLM calls\n",
    "- **Flexible** - Easy to customize and extend\n",
    "\n",
    "### Tools Available:\n",
    "- `create_bar_chart`: Creates bar charts for statistical visualizations\n",
    "- `plot_kaplan_meier`: Generates Kaplan-Meier survival plots\n",
    "- `fit_survival_regression`: Performs survival regression analysis on S3 data\n",
    "\n",
    "### Chart Access:\n",
    "Generated charts are automatically saved to your S3 bucket in the `/Graphs` folder and can be downloaded from the AWS Console.\n",
    "\n",
    "The agent maintains the same medical research statistical analysis capabilities while providing a more flexible and cost-effective solution for survival analysis and biomarker visualization.\n",
    "\n",
    "### Usage Notes:\n",
    "- Ensure your Lambda functions (MatPlotBarChartLambda and ScientificPlotLambda) are deployed and accessible\n",
    "- The agent expects specific data formats for survival analysis (0/1 for events, duration in days)\n",
    "- S3 bucket permissions should allow the Lambda functions to write chart files\n",
    "- For survival regression analysis, provide the correct S3 bucket and key for your data files"
   ]
  },
  {
   "cell_type": "markdown",
   "id": "f6b7bdab",
   "metadata": {},
   "source": []
  }
 ],
 "metadata": {
  "kernelspec": {
   "display_name": "Python 3 (ipykernel)",
   "language": "python",
   "name": "python3"
  },
  "language_info": {
   "codemirror_mode": {
    "name": "ipython",
    "version": 3
   },
   "file_extension": ".py",
   "mimetype": "text/x-python",
   "name": "python",
   "nbconvert_exporter": "python",
   "pygments_lexer": "ipython3",
   "version": "3.12.9"
  }
 },
 "nbformat": 4,
 "nbformat_minor": 5
}
