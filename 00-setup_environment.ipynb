{
 "cells": [
  {
   "cell_type": "markdown",
   "id": "045a7b02-6a49-4b6d-b11f-43ed4ad3f190",
   "metadata": {
    "tags": []
   },
   "source": [
    "# Prepare Notebook Environment for Strands Agents\n",
    "\n",
    "In this section we prepare this notebook environment with the necessary dependencies to create any agents using the Strands framework."
   ]
  },
  {
   "cell_type": "markdown",
   "id": "73696601",
   "metadata": {},
   "source": [
    "# Prerequisites\n",
    "\n",
    "1. Bedrock Model Access to the following models:\n",
    "    - Amazon\n",
    "        - Titan Embeddings G1 - Text\n",
    "    - Anthropic\n",
    "        - Anthropic Claude 3.5 Sonnet\n",
    "        - Anthropic Claude 3.5 Sonnet v2\n",
    "        - Anthropic Claude 3 Sonnet\n",
    "2. Bedrock Knowledge Bases Sync - if you are running this notebook as part of an AWS workshop, make sure the data source for the Bedrock Knowledge created has been synced."
   ]
  },
  {
   "cell_type": "markdown",
   "id": "be755083-73cf-48b0-8d2f-06769d176503",
   "metadata": {},
   "source": [
    "#### Run the pip commands below to install all needed packages\n",
    "Ensure the boto3 version printed below is **1.39.3** or higher."
   ]
  },
  {
   "cell_type": "code",
   "execution_count": null,
   "id": "22cff0fe-0fc5-455c-a8b7-88f7711afba7",
   "metadata": {
    "tags": []
   },
   "outputs": [],
   "source": [
    "%pip install -r requirements.txt --quiet\n",
    "%pip install --upgrade boto3 --quiet\n",
    "%pip show boto3"
   ]
  },
  {
   "cell_type": "markdown",
   "id": "9afa545c",
   "metadata": {},
   "source": [
    "#### Restart the notebook kernel to make sure the new version of the libraries are being used\n",
    "Click on **Kernel** > **Restart Kernel...** and wait 5 seconds before proceeding."
   ]
  },
  {
   "cell_type": "markdown",
   "id": "3d89cd8b-73ff-4cef-b040-31cc4e4b0233",
   "metadata": {},
   "source": [
    "#### Import Python libraries"
   ]
  },
  {
   "cell_type": "code",
   "execution_count": null,
   "id": "f56fe856-e1d4-42f1-aaf0-424f04ff4ba9",
   "metadata": {
    "tags": []
   },
   "outputs": [],
   "source": [
    "# Standard Python libraries\n",
    "import boto3\n",
    "import sagemaker\n",
    "\n",
    "# Import needed functions to create agent\n",
    "from utils.bedrock_agent_helper import AgentsForAmazonBedrock"
   ]
  },
  {
   "cell_type": "markdown",
   "id": "17e2d364-aab0-45fc-bf0f-2ad4bd8d9918",
   "metadata": {},
   "source": [
    "#### Extract account information needed for agent creation SageMaker role"
   ]
  },
  {
   "cell_type": "code",
   "execution_count": null,
   "id": "657e0b1a-d4ff-4cfc-bb50-b64f888ca773",
   "metadata": {
    "tags": []
   },
   "outputs": [],
   "source": [
    "# boto3 session\n",
    "sts_client = boto3.client('sts')\n",
    "session = boto3.session.Session()\n",
    "\n",
    "# Account info\n",
    "account_id = sts_client.get_caller_identity()[\"Account\"]\n",
    "region = session.region_name\n",
    "print(f\"Account ID: {account_id}\")\n",
    "print(f\"Region: {region}\")\n",
    "\n",
    "# Get the SageMaker session and execution role\n",
    "sagemaker_session = sagemaker.Session()\n",
    "role = sagemaker_session.get_caller_identity_arn()\n",
    "print(f\"SageMaker Execution Role: {role}\")"
   ]
  }
 ],
 "metadata": {
  "kernelspec": {
   "display_name": "strands",
   "language": "python",
   "name": "python3"
  },
  "language_info": {
   "codemirror_mode": {
    "name": "ipython",
    "version": 3
   },
   "file_extension": ".py",
   "mimetype": "text/x-python",
   "name": "python",
   "nbconvert_exporter": "python",
   "pygments_lexer": "ipython3",
   "version": "3.12.2"
  }
 },
 "nbformat": 4,
 "nbformat_minor": 5
}
