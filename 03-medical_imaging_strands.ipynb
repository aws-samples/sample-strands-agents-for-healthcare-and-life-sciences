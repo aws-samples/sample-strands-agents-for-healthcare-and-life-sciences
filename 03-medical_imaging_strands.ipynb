{
 "cells": [
  {
   "cell_type": "markdown",
   "id": "24cee39a-a77d-4493-a532-56935aa07fd8",
   "metadata": {
    "tags": []
   },
   "source": [
    "# Medical Imaging Expert Agent with Strands\n",
    "In this notebook we create the medical imaging expert agent using the open-source Strands agents framework"
   ]
  },
  {
   "cell_type": "markdown",
   "id": "3c401dd7-dd66-44cd-a02a-fcdd95d98605",
   "metadata": {},
   "source": [
    "#### Install Strands agents and required dependencies"
   ]
  },
  {
   "cell_type": "code",
   "execution_count": null,
   "id": "install-strands",
   "metadata": {},
   "outputs": [],
   "source": [
    "%pip install strands-agents strands-agents-tools --quiet"
   ]
  },
  {
   "cell_type": "markdown",
   "id": "environment-check",
   "metadata": {},
   "source": [
    "#### Ensure the latest version of boto3 is shown below\n",
    "Ensure the boto3 version printed below is **1.37.1** or higher."
   ]
  },
  {
   "cell_type": "code",
   "execution_count": null,
   "id": "73745fd0-9df8-4f95-b58e-843c958840ac",
   "metadata": {
    "tags": []
   },
   "outputs": [],
   "source": [
    "%pip show boto3"
   ]
  },
  {
   "cell_type": "markdown",
   "id": "8ef228e7-54c0-4925-8c06-6d172ab3286c",
   "metadata": {},
   "source": [
    "#### Import required libraries"
   ]
  },
  {
   "cell_type": "code",
   "execution_count": null,
   "id": "ae4b0cf3-76bf-4287-9b40-cc14566ebf8b",
   "metadata": {
    "execution": {
     "iopub.execute_input": "2025-07-04T02:13:54.236846Z",
     "iopub.status.busy": "2025-07-04T02:13:54.236520Z",
     "iopub.status.idle": "2025-07-04T02:13:54.284002Z",
     "shell.execute_reply": "2025-07-04T02:13:54.283493Z",
     "shell.execute_reply.started": "2025-07-04T02:13:54.236823Z"
    },
    "tags": []
   },
   "outputs": [],
   "source": [
    "import boto3\n",
    "import json\n",
    "import uuid\n",
    "import requests\n",
    "from typing import Dict, Any, List\n",
    "from strands import Agent, tool\n",
    "from strands.models import BedrockModel\n",
    "\n",
    "# Get AWS account information\n",
    "sts_client = boto3.client('sts')\n",
    "account_id = sts_client.get_caller_identity()['Account']\n",
    "region = boto3.Session().region_name"
   ]
  },
  {
   "cell_type": "markdown",
   "id": "8c5ecfce-78c8-4721-a4e6-35a7745d8871",
   "metadata": {
    "tags": []
   },
   "source": [
    "# Prerequisites\n",
    "\n",
    "This notebook assumes that you have deployed the CloudFormation stack located at https://github.com/aws-samples/amazon-bedrock-agents-cancer-biomarker-discovery to your AWS account in workshop mode."
   ]
  },
  {
   "cell_type": "markdown",
   "id": "setup-lambda",
   "metadata": {},
   "source": [
    "#### Setup Lambda function configuration\n",
    "We'll reuse the existing Lambda function for medical imaging operations"
   ]
  },
  {
   "cell_type": "code",
   "execution_count": null,
   "id": "lambda-config",
   "metadata": {
    "execution": {
     "iopub.execute_input": "2025-07-04T02:13:56.772569Z",
     "iopub.status.busy": "2025-07-04T02:13:56.772221Z",
     "iopub.status.idle": "2025-07-04T02:13:56.785064Z",
     "shell.execute_reply": "2025-07-04T02:13:56.784555Z",
     "shell.execute_reply.started": "2025-07-04T02:13:56.772547Z"
    }
   },
   "outputs": [],
   "source": [
    "# Lambda function configuration (reusing existing infrastructure)\n",
    "medical_imaging_lambda_function_name = \"imaging-biomarker-lambda\"  # Change if different in your account\n",
    "medical_imaging_lambda_function_arn = f\"arn:aws:lambda:{region}:{account_id}:function:{medical_imaging_lambda_function_name}\"\n",
    "\n",
    "# Initialize AWS clients\n",
    "lambda_client = boto3.client('lambda', region_name=region)\n",
    "bedrock_client = boto3.client('bedrock-runtime', region_name=region)\n",
    "\n",
    "print(f\"Lambda function ARN: {medical_imaging_lambda_function_arn}\")\n",
    "print(f\"Region: {region}\")\n",
    "print(f\"Account ID: {account_id}\")"
   ]
  },
  {
   "cell_type": "markdown",
   "id": "96053d0a-6dfd-4623-aea4-d7eaedc6dc63",
   "metadata": {
    "tags": []
   },
   "source": [
    "# Strands Agent Creation\n",
    "In this section we create the agent using the Strands framework"
   ]
  },
  {
   "cell_type": "markdown",
   "id": "3e974c4f-200d-499a-ba94-70de02a88486",
   "metadata": {},
   "source": [
    "#### Define agent configuration and instructions"
   ]
  },
  {
   "cell_type": "code",
   "execution_count": null,
   "id": "11e88b67-5f84-45be-90af-673c11730230",
   "metadata": {
    "execution": {
     "iopub.execute_input": "2025-07-04T02:13:59.600583Z",
     "iopub.status.busy": "2025-07-04T02:13:59.600206Z",
     "iopub.status.idle": "2025-07-04T02:13:59.605453Z",
     "shell.execute_reply": "2025-07-04T02:13:59.604954Z",
     "shell.execute_reply.started": "2025-07-04T02:13:59.600560Z"
    }
   },
   "outputs": [],
   "source": [
    "medical_imaging_agent_name = 'Medical-imaging-expert-strands'\n",
    "medical_imaging_agent_description = \"CT scan analysis using Strands framework\"\n",
    "medical_imaging_agent_instruction = \"\"\"\n",
    "You are a medical research assistant AI specialized in processing medical imaging scans of \n",
    "patients. Your primary task is to create medical imaging jobs, or provide relevant medical insights after the \n",
    "jobs have completed execution. Use only the appropriate tools as required by the specific question. Follow these \n",
    "instructions carefully:\n",
    "\n",
    "1. For computed tomographic (CT) lung imaging biomarker analysis:\n",
    "   a. Identify the patient subject ID(s) based on the conversation.\n",
    "   b. Use the compute_imaging_biomarker tool to trigger the long-running job,\n",
    "      passing the subject ID(s) as an array of strings (for example, [\"R01-043\", \"R01-93\"]).\n",
    "   c. Only if specifically asked for an analysis, use the analyze_imaging_biomarker tool to process the results from the previous job.\n",
    "\n",
    "2. When providing your response:\n",
    "   a. Start with a brief summary of your understanding of the user's query.\n",
    "   b. Explain the steps you're taking to address the query. Ask for clarifications from the user if required.\n",
    "   c. Present the results of the medical imaging jobs if complete.\n",
    "\"\"\""
   ]
  },
  {
   "cell_type": "markdown",
   "id": "lambda-tools",
   "metadata": {},
   "source": [
    "#### Define tools for Strands agent\n",
    "These tools will invoke different services to perform operations for the agent"
   ]
  },
  {
   "cell_type": "code",
   "execution_count": null,
   "id": "create-tools",
   "metadata": {
    "execution": {
     "iopub.execute_input": "2025-07-04T02:14:00.688498Z",
     "iopub.status.busy": "2025-07-04T02:14:00.688164Z",
     "iopub.status.idle": "2025-07-04T02:14:00.701623Z",
     "shell.execute_reply": "2025-07-04T02:14:00.701124Z",
     "shell.execute_reply.started": "2025-07-04T02:14:00.688476Z"
    }
   },
   "outputs": [],
   "source": [
    "def invoke_lambda_function(operation: str, payload: Dict[str, Any] = None) -> Dict[str, Any]:\n",
    "    \"\"\"\n",
    "    Helper function to invoke the existing Lambda function with Bedrock Agent compatible event structure\n",
    "    \"\"\"\n",
    "    if payload is None:\n",
    "        payload = {}\n",
    "    \n",
    "    # Convert subject_id list to JSON string to match Lambda function expectations\n",
    "    subject_id_list = payload.get('subject_id', [])\n",
    "    subject_id_value = json.dumps(subject_id_list)\n",
    "    \n",
    "    print(f\"DEBUG: Original subject_id: {subject_id_list}\")\n",
    "    print(f\"DEBUG: JSON string subject_id: {subject_id_value}\")\n",
    "    print(f\"DEBUG: Type of JSON string: {type(subject_id_value)}\")\n",
    "    \n",
    "    # Prepare the event payload to match what the Lambda function expects from Bedrock Agents\n",
    "    if operation == 'compute_imaging_biomarker':\n",
    "        event = {\n",
    "            'actionGroup': 'imagingBiomarkerProcessing',\n",
    "            'function': 'compute_imaging_biomarker',\n",
    "            'parameters': [\n",
    "                {\n",
    "                    'name': 'subject_id',\n",
    "                    'type': 'string',  # Changed from 'array' to 'string' since we're sending JSON\n",
    "                    'value': subject_id_value\n",
    "                }\n",
    "            ],\n",
    "            'sessionAttributes': {},\n",
    "            'promptSessionAttributes': {}\n",
    "        }\n",
    "    elif operation == 'analyze_imaging_biomarker':\n",
    "        event = {\n",
    "            'actionGroup': 'imagingBiomarkerProcessing',\n",
    "            'function': 'analyze_imaging_biomarker',\n",
    "            'parameters': [\n",
    "                {\n",
    "                    'name': 'subject_id',\n",
    "                    'type': 'string',  # Changed from 'array' to 'string' since we're sending JSON\n",
    "                    'value': subject_id_value\n",
    "                }\n",
    "            ],\n",
    "            'sessionAttributes': {},\n",
    "            'promptSessionAttributes': {}\n",
    "        }\n",
    "    else:\n",
    "        raise ValueError(f\"Unknown operation: {operation}\")\n",
    "    \n",
    "    print(f\"DEBUG: Event structure being sent: {json.dumps(event, indent=2)}\")\n",
    "    \n",
    "    try:\n",
    "        response = lambda_client.invoke(\n",
    "            FunctionName=medical_imaging_lambda_function_arn,\n",
    "            InvocationType='RequestResponse',\n",
    "            Payload=json.dumps(event)\n",
    "        )\n",
    "        \n",
    "        print(f\"DEBUG: Lambda invocation successful\")\n",
    "        \n",
    "        result = json.loads(response['Payload'].read())\n",
    "        print(f\"DEBUG: Lambda response: {json.dumps(result, indent=2)}\")\n",
    "        \n",
    "        # Extract the actual result from the Bedrock Agent response format\n",
    "        if 'response' in result and 'responseBody' in result['response']:\n",
    "            response_body = result['response']['responseBody']\n",
    "            if 'application/json' in response_body:\n",
    "                body_content = response_body['application/json']['body']\n",
    "                \n",
    "                # Try to parse as JSON if it looks like JSON\n",
    "                if isinstance(body_content, str):\n",
    "                    try:\n",
    "                        if body_content.startswith('{') or body_content.startswith('['):\n",
    "                            return json.loads(body_content)\n",
    "                        else:\n",
    "                            return body_content\n",
    "                    except json.JSONDecodeError:\n",
    "                        return body_content\n",
    "                else:\n",
    "                    return body_content\n",
    "        \n",
    "        return result\n",
    "        \n",
    "    except Exception as e:\n",
    "        print(f\"DEBUG: Exception during Lambda invocation: {str(e)}\")\n",
    "        return {\"error\": str(e)}\n",
    "\n",
    "# Define the tools using Strands @tool decorator\n",
    "@tool\n",
    "def compute_imaging_biomarker(subject_id: List[str]) -> str:\n",
    "    \"\"\"\n",
    "    Compute the imaging biomarker features from lung CT scans within the tumor for a list of patient subject IDs.\n",
    "    \n",
    "    Args:\n",
    "        subject_id (List[str]): An array of strings representing patient subject IDs, example ['R01-222', 'R01-333']\n",
    "    \n",
    "    Returns:\n",
    "        str: Results of the imaging biomarker computation job\n",
    "    \"\"\"\n",
    "    print(f\"\\nComputing imaging biomarkers for subjects: {subject_id}\\n\")\n",
    "    result = invoke_lambda_function('compute_imaging_biomarker', {'subject_id': subject_id})\n",
    "    print(f\"\\nComputation Output: {json.dumps(result, indent=2)}\\n\")\n",
    "    return json.dumps(result, indent=2)\n",
    "\n",
    "@tool\n",
    "def analyze_imaging_biomarker(subject_id: List[str]) -> str:\n",
    "    \"\"\"\n",
    "    Analyze the result imaging biomarker features from lung CT scans within the tumor for a list of patient subject IDs.\n",
    "    \n",
    "    Args:\n",
    "        subject_id (List[str]): An array of strings representing patient subject IDs, example ['R01-222', 'R01-333']\n",
    "    \n",
    "    Returns:\n",
    "        str: Analysis results of the imaging biomarker features\n",
    "    \"\"\"\n",
    "    print(f\"\\nAnalyzing imaging biomarkers for subjects: {subject_id}\\n\")\n",
    "    result = invoke_lambda_function('analyze_imaging_biomarker', {'subject_id': subject_id})\n",
    "    print(f\"\\nAnalysis Output: {json.dumps(result, indent=2)}\\n\")\n",
    "    return json.dumps(result, indent=2)\n",
    "\n",
    "# Create list of tools\n",
    "medical_imaging_tools = [compute_imaging_biomarker, analyze_imaging_biomarker]\n",
    "print(f\"Created {len(medical_imaging_tools)} tools for the Strands agent\")"
   ]
  },
  {
   "cell_type": "markdown",
   "id": "create-provider",
   "metadata": {},
   "source": [
    "#### Setup AWS Bedrock provider for Strands"
   ]
  },
  {
   "cell_type": "code",
   "execution_count": null,
   "id": "setup-provider",
   "metadata": {
    "execution": {
     "iopub.execute_input": "2025-07-04T02:14:02.129182Z",
     "iopub.status.busy": "2025-07-04T02:14:02.128842Z",
     "iopub.status.idle": "2025-07-04T02:14:02.200398Z",
     "shell.execute_reply": "2025-07-04T02:14:02.199797Z",
     "shell.execute_reply.started": "2025-07-04T02:14:02.129162Z"
    }
   },
   "outputs": [],
   "source": [
    "# Create Bedrock model for Strands\n",
    "model = BedrockModel(\n",
    "    model_id=\"anthropic.claude-3-5-sonnet-20241022-v2:0\",\n",
    "    region_name=region,\n",
    "    temperature=0.1,\n",
    "    streaming=False\n",
    ")"
   ]
  },
  {
   "cell_type": "markdown",
   "id": "3d2b94bc-1ed8-4542-9315-1494d76d4445",
   "metadata": {},
   "source": [
    "#### Create the Strands agent"
   ]
  },
  {
   "cell_type": "code",
   "execution_count": null,
   "id": "37eb6515-56ec-4bf5-afc1-99f303add381",
   "metadata": {
    "execution": {
     "iopub.execute_input": "2025-07-04T02:14:02.925093Z",
     "iopub.status.busy": "2025-07-04T02:14:02.924759Z",
     "iopub.status.idle": "2025-07-04T02:14:02.929461Z",
     "shell.execute_reply": "2025-07-04T02:14:02.928799Z",
     "shell.execute_reply.started": "2025-07-04T02:14:02.925070Z"
    }
   },
   "outputs": [],
   "source": [
    "# Create the Strands agent\n",
    "try:\n",
    "    medical_imaging_agent = Agent(\n",
    "        model=model,\n",
    "        tools=medical_imaging_tools,\n",
    "        system_prompt=medical_imaging_agent_instruction\n",
    "    )\n",
    "    \n",
    "    print(f\"Successfully created Strands agent: {medical_imaging_agent_name}\")\n",
    "    print(f\"Agent has {len(medical_imaging_tools)} tools available\")\n",
    "    \n",
    "except Exception as e:\n",
    "    print(f\"Error creating agent: {e}\")\n",
    "    raise"
   ]
  },
  {
   "cell_type": "markdown",
   "id": "test-agent",
   "metadata": {},
   "source": [
    "#### Test the Strands agent"
   ]
  },
  {
   "cell_type": "code",
   "execution_count": null,
   "id": "1f1dbd7b-b9c2-427b-b7e5-23961e64d877",
   "metadata": {
    "execution": {
     "iopub.execute_input": "2025-07-04T02:14:04.603888Z",
     "iopub.status.busy": "2025-07-04T02:14:04.603559Z",
     "iopub.status.idle": "2025-07-04T02:14:11.391688Z",
     "shell.execute_reply": "2025-07-04T02:14:11.391072Z",
     "shell.execute_reply.started": "2025-07-04T02:14:04.603866Z"
    }
   },
   "outputs": [],
   "source": [
    "# Test the agent with a simple query\n",
    "test_query = \"Can you compute the imaging biomarkers for these 2 patients with patient IDs of R01-083 and R01-040?\"\n",
    "\n",
    "print(f\"Testing agent with query: {test_query}\")\n",
    "print(\"=\" * 126)\n",
    "\n",
    "try:\n",
    "    # Run the agent\n",
    "    medical_imaging_agent(test_query)\n",
    "\n",
    "except Exception as e:\n",
    "    print(f\"Error during agent execution: {e}\")\n",
    "    import traceback\n",
    "    traceback.print_exc()"
   ]
  },
  {
   "cell_type": "markdown",
   "id": "advanced-usage",
   "metadata": {},
   "source": [
    "#### Advanced usage examples"
   ]
  },
  {
   "cell_type": "code",
   "execution_count": null,
   "id": "advanced-examples",
   "metadata": {
    "execution": {
     "iopub.execute_input": "2025-07-04T02:08:44.693815Z",
     "iopub.status.busy": "2025-07-04T02:08:44.693119Z",
     "iopub.status.idle": "2025-07-04T02:09:03.521987Z",
     "shell.execute_reply": "2025-07-04T02:09:03.521353Z",
     "shell.execute_reply.started": "2025-07-04T02:08:44.693789Z"
    }
   },
   "outputs": [],
   "source": [
    "# Example of more complex queries\n",
    "complex_queries = [\n",
    "    \"Compute imaging biomarkers for patients R01-001, R01-002, and R01-003\",\n",
    "    \"Analyze the imaging biomarker results for patient R01-083\"\n",
    "]\n",
    "\n",
    "def test_complex_query(query: str):\n",
    "    \"\"\"\n",
    "    Test a complex query with the agent\n",
    "    \"\"\"\n",
    "    print(f\"\\nTesting query: {query}\")\n",
    "    print(\"-\" * 120)\n",
    "    \n",
    "    try:\n",
    "        medical_imaging_agent(query)\n",
    "    except Exception as e:\n",
    "        print(f\"Error: {e}\")\n",
    "\n",
    "for query in complex_queries:\n",
    "    test_complex_query(query)"
   ]
  },
  {
   "cell_type": "markdown",
   "id": "session-management",
   "metadata": {},
   "source": [
    "#### Session management and conversation continuity"
   ]
  },
  {
   "cell_type": "code",
   "execution_count": null,
   "id": "session-demo",
   "metadata": {
    "execution": {
     "iopub.execute_input": "2025-06-14T20:46:03.609046Z",
     "iopub.status.busy": "2025-06-14T20:46:03.608499Z",
     "iopub.status.idle": "2025-06-14T20:46:38.227413Z",
     "shell.execute_reply": "2025-06-14T20:46:38.226784Z",
     "shell.execute_reply.started": "2025-06-14T20:46:03.609025Z"
    }
   },
   "outputs": [],
   "source": [
    "# Demonstrate conversation continuity\n",
    "def interactive_session():\n",
    "    \"\"\"\n",
    "    Simple interactive session with the agent\n",
    "    \"\"\"\n",
    "    print(\"Interactive Medical Imaging Analysis Session\")\n",
    "    print(\"Type 'quit' to exit\")\n",
    "    print(\"=\" * 100)\n",
    "    \n",
    "    while True:\n",
    "        user_input = input(\"\\n\\nYour question: \")\n",
    "        \n",
    "        if user_input.lower() in ['quit', 'exit', 'q']:\n",
    "            print(\"Session ended.\")\n",
    "            break\n",
    "            \n",
    "        try:\n",
    "            medical_imaging_agent(user_input)\n",
    "        except Exception as e:\n",
    "            print(f\"Error: {e}\")\n",
    "\n",
    "interactive_session()"
   ]
  },
  {
   "cell_type": "markdown",
   "id": "summary",
   "metadata": {},
   "source": [
    "## Summary\n",
    "\n",
    "This notebook demonstrated how to integrate Strands with a Lambda function.\n",
    "\n",
    "### Benefits of Strands Approach:\n",
    "- **Open source** - No vendor lock-in\n",
    "- **Cost effective** - Only pay for the underlying LLM calls\n",
    "- **Flexible** - Easy to customize and extend\n",
    "\n",
    "### Tools Available:\n",
    "- `compute_imaging_biomarker`: Computes imaging biomarker features from lung CT scans\n",
    "- `analyze_imaging_biomarker`: Analyzes the imaging biomarker results"
   ]
  }
 ],
 "metadata": {
  "kernelspec": {
   "display_name": "Python 3 (ipykernel)",
   "language": "python",
   "name": "python3"
  },
  "language_info": {
   "codemirror_mode": {
    "name": "ipython",
    "version": 3
   },
   "file_extension": ".py",
   "mimetype": "text/x-python",
   "name": "python",
   "nbconvert_exporter": "python",
   "pygments_lexer": "ipython3",
   "version": "3.12.9"
  }
 },
 "nbformat": 4,
 "nbformat_minor": 5
}
