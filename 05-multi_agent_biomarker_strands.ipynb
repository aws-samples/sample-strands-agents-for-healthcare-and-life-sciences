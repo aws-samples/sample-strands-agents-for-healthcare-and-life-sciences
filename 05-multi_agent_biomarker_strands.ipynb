{
 "cells": [
  {
   "cell_type": "markdown",
   "id": "f2a7ad93-3ae1-4624-aa50-f13d49b176f5",
   "metadata": {},
   "source": [
    "# Create Biomarker Supervisor Agent\n",
    "In this notebook we create the Biomarker Supervisor Agent that will interact with all of the Biomarker sub-agents using the 'multi-agent-collaboration' feature in Bedrock Agents"
   ]
  },
  {
   "cell_type": "markdown",
   "id": "4755a02b",
   "metadata": {},
   "source": [
    "#### Install Strands agents and required dependencies"
   ]
  },
  {
   "cell_type": "code",
   "execution_count": null,
   "id": "b65268e9",
   "metadata": {},
   "outputs": [],
   "source": [
    "%pip install strands-agents strands-agents-tools boto3 requests --quiet"
   ]
  },
  {
   "cell_type": "markdown",
   "id": "85c40b52",
   "metadata": {},
   "source": [
    "#### Ensure the latest version of boto3 is shown below\n",
    "Ensure the boto3 version printed below is **1.39.3** or higher."
   ]
  },
  {
   "cell_type": "code",
   "execution_count": null,
   "id": "2a72653b",
   "metadata": {},
   "outputs": [],
   "source": [
    "%pip show boto3"
   ]
  },
  {
   "cell_type": "markdown",
   "id": "3966e2f2-ff08-423b-9668-c43d04575a16",
   "metadata": {},
   "source": [
    "## Prerequisites\n",
    "\n",
    "1. Deploy the CloudFormation stack located at https://github.com/aws-samples/amazon-bedrock-agents-cancer-biomarker-discovery to your AWS account.\n",
    "2. Run through the notebook environment setup in 00-setup-environment.ipynb.\n",
    "3. Create all Biomarker sub-agents: 'Biomarker-database-analyst', 'Clinical-evidence-researcher', 'Medical-imaging-expert', and 'Statistician' using the notebooks 1 to 4."
   ]
  },
  {
   "cell_type": "markdown",
   "id": "f0880d66-a243-4ea9-bef1-5ef4bb3ef4da",
   "metadata": {},
   "source": [
    "#### Import required libraries"
   ]
  },
  {
   "cell_type": "code",
   "execution_count": null,
   "id": "abb9823f-d4f0-46c6-ae1f-1b0431d9ead1",
   "metadata": {
    "execution": {
     "iopub.execute_input": "2025-07-09T18:43:07.908866Z",
     "iopub.status.busy": "2025-07-09T18:43:07.908616Z",
     "iopub.status.idle": "2025-07-09T18:43:09.026047Z",
     "shell.execute_reply": "2025-07-09T18:43:09.025391Z",
     "shell.execute_reply.started": "2025-07-09T18:43:07.908840Z"
    }
   },
   "outputs": [],
   "source": [
    "import boto3\n",
    "import json\n",
    "import uuid\n",
    "import requests\n",
    "from typing import Dict, Any\n",
    "from strands import Agent, tool\n",
    "from strands.models import BedrockModel\n",
    "\n",
    "from biomarker_agent import *\n",
    "from clinical_research_agent import *\n",
    "from medical_imaging_agent import *\n",
    "from statistician_agent import *\n"
   ]
  },
  {
   "cell_type": "markdown",
   "id": "898e4125-637c-430d-9176-706429b5f35e",
   "metadata": {},
   "source": [
    "# Agent Creation\n",
    "In this section we create the supervisor agent"
   ]
  },
  {
   "cell_type": "markdown",
   "id": "590a3217-ed93-4686-8d66-028de6cecdd6",
   "metadata": {},
   "source": [
    "### Agents as Tools with Strands Agents\n",
    "\n",
    "\"Agents as Tools\" is an architectural pattern in AI systems where specialized AI agents are wrapped as callable functions (tools) that can be used by other agents. This creates a hierarchical structure where:\n",
    "\n",
    "1. A primary \"orchestrator\" agent handles user interaction and determines which specialized agent to call\n",
    "2. Specialized \"tool agents\" perform domain-specific tasks when called by the orchestrator\n",
    "\n",
    "This approach mimics human team dynamics, where a manager coordinates specialists, each bringing unique expertise to solve complex problems. Rather than a single agent trying to handle everything, tasks are delegated to the most appropriate specialized agent."
   ]
  },
  {
   "cell_type": "markdown",
   "id": "b6f5f97b-57f8-4628-89fd-e522d98719aa",
   "metadata": {},
   "source": [
    "#### Lab 1: biomarker_database_analyst_agent tool"
   ]
  },
  {
   "cell_type": "code",
   "execution_count": null,
   "id": "5a83e0b1-5e77-4486-9c28-561fcdfe897b",
   "metadata": {
    "execution": {
     "iopub.execute_input": "2025-07-09T18:43:09.040406Z",
     "iopub.status.busy": "2025-07-09T18:43:09.040217Z",
     "iopub.status.idle": "2025-07-09T18:43:09.045491Z",
     "shell.execute_reply": "2025-07-09T18:43:09.044884Z",
     "shell.execute_reply.started": "2025-07-09T18:43:09.040386Z"
    }
   },
   "outputs": [],
   "source": [
    "@tool\n",
    "def biomarker_database_analyst_agent(query: str) -> str:\n",
    "    \"\"\"\n",
    "    Create biomarker query engine with redshift using Strands framework\n",
    "\n",
    "    Args:\n",
    "        query: An information request from the biomarker database\n",
    "\n",
    "    Returns:\n",
    "        A summary of the understanding of the user's query and the response.\n",
    "    \"\"\"\n",
    "    try:\n",
    "        # print(f\"query: {query}\")\n",
    "        biomarker_agent = Agent(\n",
    "            model=bedrock_model,\n",
    "            tools=[get_schema, query_redshift, refine_sql],\n",
    "            system_prompt=biomarker_agent_instruction\n",
    "        )\n",
    "        biomarker_agent_response = biomarker_agent(query)\n",
    "        print(\"Biomarker agent Response:\")\n",
    "        print(biomarker_agent_response)\n",
    "        return biomarker_agent_response\n",
    "    except Exception as e:\n",
    "        print(f\"Error creating agent: {e}\")\n",
    "        raise"
   ]
  },
  {
   "cell_type": "markdown",
   "id": "5edac1a2-7c04-41cb-a952-b89d69df8872",
   "metadata": {},
   "source": [
    "#### Lab 2: clinical_evidence_research_agent tool"
   ]
  },
  {
   "cell_type": "code",
   "execution_count": null,
   "id": "93a24324-c2d4-402d-ae6e-aa8d6192cc1e",
   "metadata": {
    "execution": {
     "iopub.execute_input": "2025-07-09T18:43:16.144279Z",
     "iopub.status.busy": "2025-07-09T18:43:16.143696Z",
     "iopub.status.idle": "2025-07-09T18:43:16.149128Z",
     "shell.execute_reply": "2025-07-09T18:43:16.148561Z",
     "shell.execute_reply.started": "2025-07-09T18:43:16.144254Z"
    }
   },
   "outputs": [],
   "source": [
    "@tool\n",
    "def clinical_evidence_research_agent(query: str) -> str:\n",
    "    \"\"\"\n",
    "    Research internal and external evidence using Strands framework\n",
    "\n",
    "    Args:\n",
    "        query: An information request from the clinical evidence\n",
    "\n",
    "    Returns:\n",
    "        Clinical evidence.\n",
    "    \"\"\"\n",
    "    try:\n",
    "        # print(f\"query: {query}\")\n",
    "        clinical_research_agent = Agent(\n",
    "            model=bedrock_model,\n",
    "            tools=[query_pubmed, retrieve],\n",
    "            system_prompt=clinical_research_agent_instruction\n",
    "        )\n",
    "        clinical_research_agent_response = clinical_research_agent(query)\n",
    "        print(\"Clinical research agent Response:\")\n",
    "        print(clinical_research_agent_response)\n",
    "        return clinical_research_agent_response\n",
    "    except Exception as e:\n",
    "        print(f\"Error creating agent: {e}\")\n",
    "        raise"
   ]
  },
  {
   "cell_type": "markdown",
   "id": "92e46cd9-2853-4d7a-aa5d-826b35e1f07f",
   "metadata": {},
   "source": [
    "#### Lab 3: clinical_evidence_research_agent tool"
   ]
  },
  {
   "cell_type": "code",
   "execution_count": null,
   "id": "c1a45a32-e9be-4034-8d54-743a260a91ff",
   "metadata": {
    "execution": {
     "iopub.execute_input": "2025-07-09T18:43:16.490009Z",
     "iopub.status.busy": "2025-07-09T18:43:16.489687Z",
     "iopub.status.idle": "2025-07-09T18:43:16.494916Z",
     "shell.execute_reply": "2025-07-09T18:43:16.494303Z",
     "shell.execute_reply.started": "2025-07-09T18:43:16.489987Z"
    }
   },
   "outputs": [],
   "source": [
    "@tool\n",
    "def medical_imaging_agent(query: str) -> str:\n",
    "    \"\"\"\n",
    "    Medical research assistant AI specialized in processing medical imaging scans of patients\n",
    "\n",
    "    Args:\n",
    "        query: Patient information to be used to compute imaging biomarkers\n",
    "\n",
    "    Returns:\n",
    "        The results of the medical imaging jobs.\n",
    "    \"\"\"\n",
    "    try:\n",
    "        # print(f\"query: {query}\")\n",
    "        medical_imaging_agent = Agent(\n",
    "            model=bedrock_model,\n",
    "            tools=[compute_imaging_biomarker, analyze_imaging_biomarker],\n",
    "            system_prompt=medical_imaging_agent_instruction\n",
    "        )\n",
    "        medical_imaging_agent_response = medical_imaging_agent(query)\n",
    "        print(\"Medical imaging agent Response:\")\n",
    "        print(medical_imaging_agent_response)\n",
    "        return medical_imaging_agent_response\n",
    "    except Exception as e:\n",
    "        print(f\"Error creating agent: {e}\")\n",
    "        raise"
   ]
  },
  {
   "cell_type": "markdown",
   "id": "1b5ae88c-88b0-473b-86b1-a33a62090b6b",
   "metadata": {},
   "source": [
    "#### Lab 4: statistician_agent tool"
   ]
  },
  {
   "cell_type": "code",
   "execution_count": null,
   "id": "7bea7644-9279-4d36-9d1a-12e22975a7e1",
   "metadata": {
    "execution": {
     "iopub.execute_input": "2025-07-09T18:43:17.080689Z",
     "iopub.status.busy": "2025-07-09T18:43:17.080373Z",
     "iopub.status.idle": "2025-07-09T18:43:17.085504Z",
     "shell.execute_reply": "2025-07-09T18:43:17.084931Z",
     "shell.execute_reply.started": "2025-07-09T18:43:17.080668Z"
    }
   },
   "outputs": [],
   "source": [
    "@tool\n",
    "def statistician_agent(query: str) -> str:\n",
    "    \"\"\"\n",
    "    Medical research assistant AI specialized in survival analysis with biomarkers\n",
    "\n",
    "    Args:\n",
    "        query: Information to be used to generate the chart\n",
    "\n",
    "    Returns:\n",
    "        A summary of your understanding of the user's query.\n",
    "    \"\"\"\n",
    "    try:\n",
    "        # print(f\"query: {query}\")\n",
    "        statistician_agent = Agent(\n",
    "            model=bedrock_model,\n",
    "            tools=[create_bar_chart, plot_kaplan_meier, fit_survival_regression],\n",
    "            system_prompt=statistician_agent_instruction\n",
    "        )\n",
    "        statistician_agent_response = statistician_agent(query)\n",
    "        print(\"Statistician agent Response:\")\n",
    "        print(statistician_agent_response)\n",
    "        return statistician_agent_response\n",
    "    except Exception as e:\n",
    "        print(f\"Error creating agent: {e}\")\n",
    "        raise"
   ]
  },
  {
   "cell_type": "markdown",
   "id": "f6ab51c7-c751-4c7a-8b03-cc9ddad8d1c0",
   "metadata": {},
   "source": [
    "#### Define orchestrator agent configuration below"
   ]
  },
  {
   "cell_type": "code",
   "execution_count": null,
   "id": "38981928-0804-4dc8-84d6-2e9f71ca3ee7",
   "metadata": {
    "execution": {
     "iopub.execute_input": "2025-07-09T18:43:17.630415Z",
     "iopub.status.busy": "2025-07-09T18:43:17.630089Z",
     "iopub.status.idle": "2025-07-09T18:43:17.633806Z",
     "shell.execute_reply": "2025-07-09T18:43:17.633220Z",
     "shell.execute_reply.started": "2025-07-09T18:43:17.630395Z"
    }
   },
   "outputs": [],
   "source": [
    "agent_name = \"multi-agent-biomarker\"\n",
    "agent_description = \"Multi-agent collaboration for biomarker discovery\"\n",
    "agent_instruction = \"\"\"You are a medical research assistant AI specialized in cancer biomarker analysis and discovery. \n",
    "Your primary task is to interpret user queries, use relevant agents for specific tasks, and provide consolidated medical insights based on the data. \n",
    "Use only the appropriate agents as required by the specific question. You can provide responses from a prior agent to the next agent \n",
    "in sequence. To analyze patient biomarkers data, you can retrieve relevant records from the database. \n",
    "To find the p-value of biomarkers, \n",
    "a. You need to query and store all records including survival status, survival duration in years, and the required biomarkers and \n",
    "b. You need to fit a surival regression model with that data in S3. \n",
    "When providing your response:\n",
    "a. Start with a brief summary of your understanding of the user's query. \n",
    "b. Explain the steps you're taking to address the query. Ask for clarifications from the user if required. \n",
    "c. Present the results of individual agents \n",
    "d. Conclude with a concise summary of the findings and their potential implications for medical research. \n",
    "\n",
    "Make sure to explain any medical or statistical concepts in a clear, accessible manner.\n",
    "\n",
    "\"\"\""
   ]
  },
  {
   "cell_type": "markdown",
   "id": "ff77420b-2bbc-480a-91f2-d9ee4f1b6a9e",
   "metadata": {},
   "source": [
    "#### Instantiate agent with the desired configuration"
   ]
  },
  {
   "cell_type": "code",
   "execution_count": null,
   "id": "0a0dd5cb-e7cb-4f50-8580-287c5d0c1f99",
   "metadata": {
    "execution": {
     "iopub.execute_input": "2025-07-09T18:43:19.126581Z",
     "iopub.status.busy": "2025-07-09T18:43:19.126251Z",
     "iopub.status.idle": "2025-07-09T18:43:19.194174Z",
     "shell.execute_reply": "2025-07-09T18:43:19.193573Z",
     "shell.execute_reply.started": "2025-07-09T18:43:19.126560Z"
    }
   },
   "outputs": [],
   "source": [
    "# Strands Agents SDK allows easy integration of agent tools\n",
    "bedrock_model = BedrockModel(\n",
    "    model_id=\"anthropic.claude-3-5-sonnet-20241022-v2:0\",\n",
    "    region_name=region,\n",
    "    temperature=0.1,\n",
    "    streaming=False\n",
    ")\n",
    "\n",
    "try:\n",
    "    orchestrator = Agent(\n",
    "        model=bedrock_model,\n",
    "        system_prompt=agent_instruction,\n",
    "        callback_handler=None,\n",
    "        # associate sub-agents to supervisor\n",
    "        tools=[biomarker_database_analyst_agent, clinical_evidence_research_agent, medical_imaging_agent, statistician_agent]\n",
    "    )\n",
    "    \n",
    "    print(f\"Successfully created orchestrator agent: {agent_name}\")\n",
    "    \n",
    "except Exception as e:\n",
    "    print(f\"Error creating agent: {e}\")\n",
    "    raise"
   ]
  },
  {
   "cell_type": "markdown",
   "id": "4a32f9b7-3af8-4082-91cd-3383e81b386a",
   "metadata": {
    "execution": {
     "iopub.execute_input": "2025-07-03T22:46:38.405073Z",
     "iopub.status.busy": "2025-07-03T22:46:38.404734Z",
     "iopub.status.idle": "2025-07-03T22:46:38.408119Z",
     "shell.execute_reply": "2025-07-03T22:46:38.407523Z",
     "shell.execute_reply.started": "2025-07-03T22:46:38.405050Z"
    }
   },
   "source": [
    "## Ask supervisor agent different question types now that sub-agents are ready!"
   ]
  },
  {
   "cell_type": "code",
   "execution_count": null,
   "id": "977aa5f3-26f0-46df-b75d-a08f4f677f36",
   "metadata": {
    "execution": {
     "iopub.execute_input": "2025-07-09T18:44:42.076726Z",
     "iopub.status.busy": "2025-07-09T18:44:42.076383Z"
    }
   },
   "outputs": [],
   "source": [
    "# ---------------------------- Sample Question Bank --------------------------------------------\n",
    "\n",
    "# Redshift Agent Questions\n",
    "redshift_agent_query_1 = \"How many patients are current smokers?\"\n",
    "redshift_agent_query_2 = \"What is the average age of patients diagnosed with Adenocarcinoma?\"\n",
    "\n",
    "# Research Evidence Agent Questions\n",
    "research_evidence_agent_query_1 = \"Can you search PubMed for evidence around the effects of biomarker use in oncology on clinical trial failure risk?\"\n",
    "research_evidence_agent_query_2 = \"What are the FDA approved biomarkers for non small cell lung cancer?\"\n",
    "\n",
    "# Medical Imaging Agent Questions (must run in sequence)\n",
    "medical_imaging_agent_query_1 = \"Can you compute the imaging biomarkers for the 2 patients with the lowest gdf15 expression values?\"\n",
    "medical_imaging_agent_query_2 = \"Can you higlight the elongation and sphericity of the tumor with these patients. Can you depict images of them?\"\n",
    "\n",
    "# Scientific Analysis Agent Questions\n",
    "scientific_analysis_agent_query_1 = \"What is the best gene biomarker (lowest p value) with overall survival for patients that have undergone chemotherapy, Generate a bar chart of the top 5 gene biomarkers based on their p value and include their names in the x axis.?\"\n",
    "\n",
    "# Followup research evidence agent questions\n",
    "research_evidence_agent_query_3 = \"According to literature evidence, what metagene cluster does gdf15 belong to\"\n",
    "research_evidence_agent_query_4 = \"What properties of the tumor are associated with metagene 19 activity and EGFR pathway\"\n",
    "\n",
    "# -----------------------------------------------------------------------------------------\n",
    "test_query = redshift_agent_query_1 # Change value here to test different questions\n",
    "\n",
    "print(f\"Testing orchestrator agent with query: {test_query}\")\n",
    "print(\"=\" * (39 + len(test_query)))\n",
    "\n",
    "try:\n",
    "    # Run the agent\n",
    "    response = orchestrator(test_query)\n",
    "    \n",
    "except Exception as e:\n",
    "    print(f\"Error during agent execution: {e}\")\n",
    "    import traceback\n",
    "    traceback.print_exc()"
   ]
  },
  {
   "cell_type": "markdown",
   "id": "6e860fee-1cf7-4800-97bb-7279758a0aaf",
   "metadata": {},
   "source": [
    "### Now the Biomarker Supervisor Agent is ready to assist you!"
   ]
  },
  {
   "cell_type": "code",
   "execution_count": null,
   "id": "b544b050-6d69-48a9-838f-60ac53941102",
   "metadata": {},
   "outputs": [],
   "source": []
  }
 ],
 "metadata": {
  "kernelspec": {
   "display_name": "strands",
   "language": "python",
   "name": "python3"
  },
  "language_info": {
   "codemirror_mode": {
    "name": "ipython",
    "version": 3
   },
   "file_extension": ".py",
   "mimetype": "text/x-python",
   "name": "python",
   "nbconvert_exporter": "python",
   "pygments_lexer": "ipython3",
   "version": "3.12.2"
  }
 },
 "nbformat": 4,
 "nbformat_minor": 5
}
