{
 "cells": [
  {
   "cell_type": "markdown",
   "id": "24cee39a-a77d-4493-a532-56935aa07fd8",
   "metadata": {
    "tags": []
   },
   "source": [
    "# Biomarker Database Analyst Agent with Strands\n",
    "In this notebook we create the biomarker database analyst agent using the open-source Strands agents framework"
   ]
  },
  {
   "cell_type": "markdown",
   "id": "3c401dd7-dd66-44cd-a02a-fcdd95d98605",
   "metadata": {},
   "source": [
    "#### Install Strands agents and required dependencies"
   ]
  },
  {
   "cell_type": "code",
   "execution_count": null,
   "id": "install-strands",
   "metadata": {},
   "outputs": [],
   "source": [
    "%pip install strands-agents strands-agents-tools --quiet"
   ]
  },
  {
   "cell_type": "markdown",
   "id": "environment-check",
   "metadata": {},
   "source": [
    "#### Ensure the latest version of boto3 is shown below\n",
    "Ensure the boto3 version printed below is **1.37.1** or higher."
   ]
  },
  {
   "cell_type": "code",
   "execution_count": null,
   "id": "73745fd0-9df8-4f95-b58e-843c958840ac",
   "metadata": {
    "execution": {
     "iopub.execute_input": "2025-07-03T22:16:12.977798Z",
     "iopub.status.busy": "2025-07-03T22:16:12.977436Z",
     "iopub.status.idle": "2025-07-03T22:16:13.721155Z",
     "shell.execute_reply": "2025-07-03T22:16:13.720489Z",
     "shell.execute_reply.started": "2025-07-03T22:16:12.977776Z"
    },
    "tags": []
   },
   "outputs": [],
   "source": [
    "%pip show boto3"
   ]
  },
  {
   "cell_type": "markdown",
   "id": "8ef228e7-54c0-4925-8c06-6d172ab3286c",
   "metadata": {},
   "source": [
    "#### Import required libraries"
   ]
  },
  {
   "cell_type": "code",
   "execution_count": null,
   "id": "ae4b0cf3-76bf-4287-9b40-cc14566ebf8b",
   "metadata": {
    "execution": {
     "iopub.execute_input": "2025-07-03T23:45:05.582126Z",
     "iopub.status.busy": "2025-07-03T23:45:05.581807Z",
     "iopub.status.idle": "2025-07-03T23:45:05.627912Z",
     "shell.execute_reply": "2025-07-03T23:45:05.627392Z",
     "shell.execute_reply.started": "2025-07-03T23:45:05.582106Z"
    },
    "tags": []
   },
   "outputs": [],
   "source": [
    "import boto3\n",
    "import json\n",
    "import time\n",
    "from collections import defaultdict\n",
    "from typing import Dict, Any\n",
    "from strands import Agent, tool\n",
    "from strands.models import BedrockModel\n",
    "\n",
    "# Get AWS account information\n",
    "sts_client = boto3.client('sts')\n",
    "account_id = sts_client.get_caller_identity()['Account']\n",
    "region = boto3.Session().region_name"
   ]
  },
  {
   "cell_type": "markdown",
   "id": "8c5ecfce-78c8-4721-a4e6-35a7745d8871",
   "metadata": {
    "tags": []
   },
   "source": [
    "# Prerequisites\n",
    "\n",
    "This notebook assumes that you have deployed the CloudFormation stack located at https://github.com/aws-samples/amazon-bedrock-agents-cancer-biomarker-discovery to your AWS account in workshop mode."
   ]
  },
  {
   "cell_type": "markdown",
   "id": "setup-lambda",
   "metadata": {},
   "source": [
    "#### Setup AWS clients\n",
    "Define the clients to AWS services that will be used by tools."
   ]
  },
  {
   "cell_type": "code",
   "execution_count": null,
   "id": "lambda-config",
   "metadata": {
    "execution": {
     "iopub.execute_input": "2025-07-03T23:45:06.131905Z",
     "iopub.status.busy": "2025-07-03T23:45:06.131581Z",
     "iopub.status.idle": "2025-07-03T23:45:06.142597Z",
     "shell.execute_reply": "2025-07-03T23:45:06.142042Z",
     "shell.execute_reply.started": "2025-07-03T23:45:06.131882Z"
    }
   },
   "outputs": [],
   "source": [
    "# Initialize AWS clients\n",
    "bedrock_client = boto3.client('bedrock-runtime', region_name=region)\n",
    "redshift_client = boto3.client('redshift-data')\n",
    "\n",
    "print(f\"Region: {region}\")\n",
    "print(f\"Account ID: {account_id}\")"
   ]
  },
  {
   "cell_type": "markdown",
   "id": "96053d0a-6dfd-4623-aea4-d7eaedc6dc63",
   "metadata": {
    "tags": []
   },
   "source": [
    "# Strands Agent Creation\n",
    "In this section we create the agent using the Strands framework"
   ]
  },
  {
   "cell_type": "markdown",
   "id": "3e974c4f-200d-499a-ba94-70de02a88486",
   "metadata": {},
   "source": [
    "#### Define agent configuration and instructions"
   ]
  },
  {
   "cell_type": "code",
   "execution_count": null,
   "id": "11e88b67-5f84-45be-90af-673c11730230",
   "metadata": {
    "execution": {
     "iopub.execute_input": "2025-07-03T23:45:06.967695Z",
     "iopub.status.busy": "2025-07-03T23:45:06.967375Z",
     "iopub.status.idle": "2025-07-03T23:45:06.972710Z",
     "shell.execute_reply": "2025-07-03T23:45:06.972163Z",
     "shell.execute_reply.started": "2025-07-03T23:45:06.967673Z"
    }
   },
   "outputs": [],
   "source": [
    "biomarker_agent_name = 'Biomarker-database-analyst-strands'\n",
    "biomarker_agent_description = \"biomarker query engine with redshift using Strands framework\"\n",
    "biomarker_agent_instruction = \"\"\"\n",
    "You are a medical research assistant AI specialized in generating SQL queries for a \n",
    "database containing medical biomarker information. Your primary task is to interpret user queries, \n",
    "generate appropriate SQL queries, and provide relevant medical insights based on the data. \n",
    "Use only the appropriate tools as required by the specific question. Follow these instructions carefully: \n",
    "\n",
    "1. Before generating any SQL query, use the get_schema tool to familiarize yourself with the database structure. \n",
    "This will ensure your queries are correctly formatted and target the appropriate columns. \n",
    "\n",
    "2. When generating an SQL query: \n",
    "   a. Write the query as a single line, removing all newline (\"\\n\") characters. \n",
    "   b. Column names should remain consistent, do not modify the column names in the generated SQL query. \n",
    "\n",
    "3. Before execution of a step: \n",
    "   a. Evaluate the SQL query with the rationale of the specific step by using the refine_sql tool. \n",
    "      Provide both the SQL query and a brief rationale for the specific step you're taking. \n",
    "      Do not share the original user question with the tool. \n",
    "   b. Only proceed to execute the query using the query_redshift tool after receiving the evaluated \n",
    "      and potentially optimized version from the refine_sql tool. \n",
    "   c. If there is an explicit need for retrieving all the data in S3, avoid optimized query \n",
    "      recommendations that aggregate the data. \n",
    "\n",
    "4. When providing your response: \n",
    "   a. Start with a brief summary of your understanding of the user's query. \n",
    "   b. Explain the steps you're taking to address the query. \n",
    "   c. Ask for clarifications from the user if required.\n",
    "\"\"\""
   ]
  },
  {
   "cell_type": "markdown",
   "id": "lambda-tools",
   "metadata": {},
   "source": [
    "#### Define tools for Strands agent\n",
    "These tools will invoke different services to perform operations for the agent"
   ]
  },
  {
   "cell_type": "code",
   "execution_count": null,
   "id": "create-tools",
   "metadata": {
    "execution": {
     "iopub.execute_input": "2025-07-03T23:45:08.819805Z",
     "iopub.status.busy": "2025-07-03T23:45:08.819483Z",
     "iopub.status.idle": "2025-07-03T23:45:08.833849Z",
     "shell.execute_reply": "2025-07-03T23:45:08.833225Z",
     "shell.execute_reply.started": "2025-07-03T23:45:08.819785Z"
    }
   },
   "outputs": [],
   "source": [
    "def extract_table_columns(query):\n",
    "    table_columns = defaultdict(list)\n",
    "    for record in query[\"Records\"]:\n",
    "        table_name = record[0][\"stringValue\"]\n",
    "        column_name = record[1][\"stringValue\"]\n",
    "        column_type = record[2][\"stringValue\"]\n",
    "        column_comment = record[3][\"stringValue\"]\n",
    "        column_details = {\n",
    "            \"name\": column_name,\n",
    "            \"type\": column_type,\n",
    "            \"comment\": column_comment\n",
    "        }\n",
    "        table_columns[table_name].append(column_details)\n",
    "    return dict(table_columns)\n",
    "\n",
    "# Define the tools using Strands @tool decorator\n",
    "@tool\n",
    "def get_schema() -> str:\n",
    "    \"\"\"\n",
    "    Get the database schema including all table names and column information.\n",
    "    This tool retrieves the structure of the redshift database to help formulate proper SQL queries.\n",
    "    \n",
    "    Returns:\n",
    "        str: JSON string containing table names and their schemas\n",
    "    \"\"\"\n",
    "    sql = \"\"\"\n",
    "        SELECT\n",
    "            'clinical_genomic' AS table_name,\n",
    "            a.attname AS column_name,\n",
    "            pg_catalog.format_type(a.atttypid, a.atttypmod) AS column_type,\n",
    "            pg_catalog.col_description(a.attrelid, a.attnum) AS column_comment\n",
    "        FROM\n",
    "            pg_catalog.pg_attribute a\n",
    "        WHERE\n",
    "            a.attrelid = 'clinical_genomic'::regclass\n",
    "            AND a.attnum > 0\n",
    "            AND NOT a.attisdropped;\"\"\"\n",
    "\n",
    "    try:\n",
    "        result = redshift_client.execute_statement(Database='dev', DbUser='admin', Sql=sql, ClusterIdentifier='biomarker-redshift-cluster')\n",
    "    \n",
    "        def wait_for_query_completion(statement_id):\n",
    "            while True:\n",
    "                response = redshift_client.describe_statement(Id=statement_id)\n",
    "                status = response['Status']\n",
    "                if status == 'FINISHED':\n",
    "                    break\n",
    "                elif status in ['FAILED', 'CANCELLED']:\n",
    "                    print(\"SQL statement execution failed or was cancelled.\")\n",
    "                    break\n",
    "                time.sleep(2)\n",
    "        \n",
    "        wait_for_query_completion(result['Id'])\n",
    "        \n",
    "        response = redshift_client.get_statement_result(Id=result['Id'])\n",
    "        print(f\"\\nSchema Output: {str(response)[:500]}...\\n\")\n",
    "        return response\n",
    "    except Exception as e:\n",
    "        print(\"Error:\", e)\n",
    "        raise\n",
    "\n",
    "@tool\n",
    "def query_redshift(query: str) -> str:\n",
    "    \"\"\"\n",
    "    Execute a SQL query against the Redshift database.\n",
    "    \n",
    "    Args:\n",
    "        query (str): The SQL query to execute\n",
    "    \n",
    "    Returns:\n",
    "        str: Query results as JSON string\n",
    "    \"\"\"\n",
    "    print(f\"\\nRedshift Input Query: {query}\\n\")\n",
    "    try:\n",
    "        result = redshift_client.execute_statement(Database='dev', DbUser='admin', Sql=query, ClusterIdentifier='biomarker-redshift-cluster')\n",
    "    \n",
    "        def wait_for_query_completion(statement_id):\n",
    "            while True:\n",
    "                response = redshift_client.describe_statement(Id=statement_id)\n",
    "                status = response['Status']\n",
    "                if status == 'FINISHED':\n",
    "                    break\n",
    "                elif status in ['FAILED', 'CANCELLED']:\n",
    "                    print(\"SQL statement execution failed or was cancelled.\")\n",
    "                    break\n",
    "                time.sleep(2)\n",
    "        \n",
    "        wait_for_query_completion(result['Id'])\n",
    "        \n",
    "        response = redshift_client.get_statement_result(Id=result['Id'])\n",
    "        print(f\"\\nRedshift Output: {response}\\n\")\n",
    "        return response\n",
    "    except Exception as e:\n",
    "        print(\"Error:\", e)\n",
    "        raise\n",
    "\n",
    "@tool\n",
    "def refine_sql(sql: str, question: str) -> str:\n",
    "    \"\"\"\n",
    "    Evaluate and potentially optimize an SQL query for efficiency.\n",
    "    \n",
    "    Args:\n",
    "        sql (str): The SQL query to evaluate\n",
    "        question (str): The rationale or step description for this query\n",
    "    \n",
    "    Returns:\n",
    "        str: Evaluated/optimized SQL query\n",
    "    \"\"\"\n",
    "    print(f\"\\nInput SQL: {sql}, Input Question: {question}\\n\")\n",
    "    raw_schema = get_schema()\n",
    "    schema = extract_table_columns(raw_schema)\n",
    "\n",
    "    prompt = f\"\"\"\n",
    "    You are an extremely critical SQL query evaluation assistant. Your job is to analyze\n",
    "    the given schema, SQL query, and question to ensure the query is efficient and accurately answers the \n",
    "    question. You should focus on making the query as efficient as possible, using aggregation when applicable.\n",
    "\n",
    "    Here is the schema you should consider:\n",
    "    <schema>\n",
    "    {json.dumps(schema)}\n",
    "    </schema>\n",
    "    \n",
    "    Pay close attention to the accepted values and the column data type located in the comment field for each column.\n",
    "    \n",
    "    Here is the generated SQL query to evaluate:\n",
    "    <sql_query>\n",
    "    {sql}\n",
    "    </sql_query>\n",
    "    \n",
    "    Here is the question that was asked:\n",
    "    <question>\n",
    "    {question}\n",
    "    </question>\n",
    "    \n",
    "    Your task is to evaluate and refine the SQL query to ensure it is very efficient. Follow these steps:\n",
    "    1. Analyze the query in relation to the schema and the question.\n",
    "    2. Determine if the query efficiently answers the question.\n",
    "    3. If the query is not efficient, provide a more efficient SQL query.\n",
    "    4. If the query is already efficient, respond with \"no change needed\".\n",
    "\n",
    "    When evaluating efficiency, consider the following:\n",
    "    - Use of appropriate aggregation functions (COUNT, SUM, AVG, etc.)\n",
    "    - Proper use of GROUP BY clauses\n",
    "    - Avoiding unnecessary JOINs or subqueries\n",
    "    - Selecting only necessary columns\n",
    "    - Using appropriate WHERE clauses to filter data\n",
    "    \n",
    "    Here are examples to guide your evaluation:\n",
    "    \n",
    "    Inefficient query example:\n",
    "    SELECT chemotherapy, survival_status FROM dev.public.lung_cancer_cases WHERE chemotherapy = 'Yes';\n",
    "\n",
    "    This is inefficient because it does not provide a concise and informative output that directly answers\n",
    "    the question. It results in a larger output size, does not aggregate the data, and presents the results\n",
    "    in a format that is not easy to analyze and interpret.\n",
    "\n",
    "    Efficient query example:\n",
    "    SELECT survival_status, COUNT(*) AS count FROM dev.public.lung_cancer_cases WHERE chemotherapy = 'Yes' GROUP BY survival_status;\n",
    "\n",
    "    This query uses COUNT(*) and GROUP BY to aggregate and count the records for each distinct value of survival_status, providing a more concise and informative result.\n",
    "    \n",
    "    Another efficient query example:\n",
    "    SELECT smoking_status, COUNT(DISTINCT case_id) AS num_patients FROM clinical_genomic WHERE age_at_histological_diagnosis > 50 GROUP BY smoking_status;\n",
    "    \n",
    "    This query uses COUNT(DISTINCT) and GROUP BY to aggregate and provide a summary of the data, reducing the SQL output size.\n",
    "    \n",
    "    Provide your response within <efficientQuery> tags. If you suggest a new query, do not use line breaks in the generated SQL. Your response should be a single line of SQL or \"no change needed\" if the original query is already efficient.\n",
    "    \n",
    "    Remember to prioritize aggregation when possible to reduce SQL output size and provide more meaningful results.\n",
    "    \"\"\"\n",
    "    \n",
    "    try:\n",
    "        user_message = {\"role\": \"user\", \"content\": prompt}\n",
    "        claude_response = {\"role\": \"assistant\", \"content\": \"<efficientQuery>\"}\n",
    "        model_Id = 'anthropic.claude-3-5-sonnet-20240620-v1:0'\n",
    "        messages = [user_message, claude_response]\n",
    "        system_prompt = \"You are an extremely critical sql query evaluation assistant, your job is to look at the schema, sql query and question being asked to then evaluate the query to ensure it is efficient.\"\n",
    "        max_tokens = 1000\n",
    "        \n",
    "        body = json.dumps({\n",
    "            \"messages\": messages,\n",
    "            \"anthropic_version\": \"bedrock-2023-05-31\",\n",
    "            \"max_tokens\": max_tokens,\n",
    "            \"system\": system_prompt\n",
    "        })\n",
    "    \n",
    "        response = bedrock_client.invoke_model(body=body, modelId=model_Id)\n",
    "        response_bytes = response.get(\"body\").read()\n",
    "        response_text = response_bytes.decode('utf-8')\n",
    "        response_json = json.loads(response_text)\n",
    "        content = response_json.get('content', [])\n",
    "        for item in content:\n",
    "            if item.get('type') == 'text':\n",
    "                result_text = item.get('text')\n",
    "                print(f\"\\nRefined SQL: {result_text}\\n\")\n",
    "                return result_text\n",
    "        return \"No SQL found in response\"\n",
    "    except Exception as e:\n",
    "        print(\"Error:\", e)\n",
    "        raise\n",
    "\n",
    "# Create list of tools\n",
    "biomarker_agent_tools = [get_schema, query_redshift, refine_sql]\n",
    "print(f\"Created {len(biomarker_agent_tools)} tools for the Strands agent\")"
   ]
  },
  {
   "cell_type": "markdown",
   "id": "create-provider",
   "metadata": {},
   "source": [
    "#### Setup AWS Bedrock provider for Strands"
   ]
  },
  {
   "cell_type": "code",
   "execution_count": null,
   "id": "setup-provider",
   "metadata": {
    "execution": {
     "iopub.execute_input": "2025-07-03T23:45:10.357952Z",
     "iopub.status.busy": "2025-07-03T23:45:10.357616Z",
     "iopub.status.idle": "2025-07-03T23:45:10.427061Z",
     "shell.execute_reply": "2025-07-03T23:45:10.426484Z",
     "shell.execute_reply.started": "2025-07-03T23:45:10.357932Z"
    }
   },
   "outputs": [],
   "source": [
    "# Create Bedrock model for Strands\n",
    "model = BedrockModel(\n",
    "    model_id=\"anthropic.claude-3-5-sonnet-20241022-v2:0\",\n",
    "    region_name=region,\n",
    "    temperature=0.1,\n",
    "    streaming=False\n",
    ")"
   ]
  },
  {
   "cell_type": "markdown",
   "id": "3d2b94bc-1ed8-4542-9315-1494d76d4445",
   "metadata": {},
   "source": [
    "#### Create the Strands agent"
   ]
  },
  {
   "cell_type": "code",
   "execution_count": null,
   "id": "37eb6515-56ec-4bf5-afc1-99f303add381",
   "metadata": {
    "execution": {
     "iopub.execute_input": "2025-07-03T23:45:12.126158Z",
     "iopub.status.busy": "2025-07-03T23:45:12.125811Z",
     "iopub.status.idle": "2025-07-03T23:45:12.130689Z",
     "shell.execute_reply": "2025-07-03T23:45:12.130114Z",
     "shell.execute_reply.started": "2025-07-03T23:45:12.126137Z"
    }
   },
   "outputs": [],
   "source": [
    "# Create the Strands agent\n",
    "try:\n",
    "    biomarker_agent = Agent(\n",
    "        model=model,\n",
    "        tools=biomarker_agent_tools,\n",
    "        system_prompt=biomarker_agent_instruction\n",
    "    )\n",
    "    \n",
    "    print(\"Successfully created Strands agent\")\n",
    "    print(f\"Agent has {len(biomarker_agent_tools)} tools available\")\n",
    "    \n",
    "except Exception as e:\n",
    "    print(f\"Error creating agent: {e}\")\n",
    "    raise"
   ]
  },
  {
   "cell_type": "markdown",
   "id": "test-agent",
   "metadata": {},
   "source": [
    "#### Test the agent"
   ]
  },
  {
   "cell_type": "code",
   "execution_count": null,
   "id": "1f1dbd7b-b9c2-427b-b7e5-23961e64d877",
   "metadata": {
    "execution": {
     "iopub.execute_input": "2025-07-03T22:19:34.490232Z",
     "iopub.status.busy": "2025-07-03T22:19:34.489898Z",
     "iopub.status.idle": "2025-07-03T22:20:10.151529Z",
     "shell.execute_reply": "2025-07-03T22:20:10.150959Z",
     "shell.execute_reply.started": "2025-07-03T22:19:34.490210Z"
    },
    "scrolled": true
   },
   "outputs": [],
   "source": [
    "# Test the agent with a simple query\n",
    "test_query = \"How many patients are current smokers?\"\n",
    "\n",
    "print(f\"Testing agent with query: {test_query}\")\n",
    "print(\"=\" * 64)\n",
    "\n",
    "try:\n",
    "    # Run the agent\n",
    "    response = biomarker_agent(test_query)\n",
    "    \n",
    "except Exception as e:\n",
    "    print(f\"Error during agent execution: {e}\")\n",
    "    import traceback\n",
    "    traceback.print_exc()"
   ]
  },
  {
   "cell_type": "markdown",
   "id": "advanced-usage",
   "metadata": {},
   "source": [
    "#### Advanced usage examples"
   ]
  },
  {
   "cell_type": "code",
   "execution_count": null,
   "id": "advanced-examples",
   "metadata": {
    "execution": {
     "iopub.execute_input": "2025-07-03T21:03:52.249669Z",
     "iopub.status.busy": "2025-07-03T21:03:52.249297Z",
     "iopub.status.idle": "2025-07-03T21:05:15.137570Z",
     "shell.execute_reply": "2025-07-03T21:05:15.136978Z",
     "shell.execute_reply.started": "2025-07-03T21:03:52.249645Z"
    },
    "scrolled": true
   },
   "outputs": [],
   "source": [
    "# Example of more complex queries\n",
    "complex_queries = [\n",
    "    \"What is the average age of patients with lung cancer?\",\n",
    "    \"Show me the distribution of biomarker levels by cancer stage\"\n",
    "]\n",
    "\n",
    "def test_complex_query(query: str):\n",
    "    \"\"\"\n",
    "    Test a complex query with the agent\n",
    "    \"\"\"\n",
    "    print(f\"\\nTesting query: {query}\")\n",
    "    print(\"-\" * 75)\n",
    "    \n",
    "    try:\n",
    "        response = biomarker_agent(query)\n",
    "    except Exception as e:\n",
    "        print(f\"Error: {e}\")\n",
    "\n",
    "for query in complex_queries: \n",
    "    test_complex_query(query)\n",
    "    print(\"\\n----------------------------------------------------------------------------------------------------------------------------------------\\n\")"
   ]
  },
  {
   "cell_type": "markdown",
   "id": "session-management",
   "metadata": {},
   "source": [
    "#### Session management and conversation continuity"
   ]
  },
  {
   "cell_type": "code",
   "execution_count": null,
   "id": "session-demo",
   "metadata": {
    "execution": {
     "iopub.execute_input": "2025-06-14T00:05:50.084848Z",
     "iopub.status.busy": "2025-06-14T00:05:50.084525Z",
     "iopub.status.idle": "2025-06-14T00:07:16.957589Z",
     "shell.execute_reply": "2025-06-14T00:07:16.957007Z",
     "shell.execute_reply.started": "2025-06-14T00:05:50.084826Z"
    }
   },
   "outputs": [],
   "source": [
    "# Demonstrate conversation continuity\n",
    "def interactive_session():\n",
    "    \"\"\"\n",
    "    Simple interactive session with the agent\n",
    "    \"\"\"\n",
    "    print(\"Interactive Biomarker Database Analysis Session\")\n",
    "    print(\"Type 'quit' to exit\")\n",
    "    print(\"=\" * 50)\n",
    "    \n",
    "    while True:\n",
    "        user_input = input(\"\\nYour question: \")\n",
    "        \n",
    "        if user_input.lower() in ['quit', 'exit', 'q']:\n",
    "            print(\"Session ended.\")\n",
    "            break\n",
    "            \n",
    "        try:\n",
    "            response = biomarker_agent(user_input)\n",
    "            if response.tool_calls:\n",
    "                print(f\"\\n[Used {len(response.tool_calls)} tool(s)]\")    \n",
    "        except Exception as e:\n",
    "            print(f\"Error: {e}\")\n",
    "\n",
    "interactive_session()"
   ]
  },
  {
   "cell_type": "markdown",
   "id": "summary",
   "metadata": {},
   "source": [
    "## Summary\n",
    "\n",
    "This notebook demonstrated how to build an agent with Strands framework leveraging tools to access an Amazon Redshift database.\n",
    "\n",
    "### Benefits of Strands Approach:\n",
    "- **Open source** - No vendor lock-in\n",
    "- **Cost effective** - Only pay for the underlying LLM calls\n",
    "- **Flexible** - Easy to customize and extend\n",
    "\n",
    "### Tools Available:\n",
    "- `get_schema`: Retrieves database schema information\n",
    "- `query_redshift`: Executes SQL queries against the database\n",
    "- `refine_sql`: Optimizes SQL queries for better performance\n"
   ]
  },
  {
   "cell_type": "markdown",
   "id": "ff93f2c6",
   "metadata": {},
   "source": []
  }
 ],
 "metadata": {
  "kernelspec": {
   "display_name": "strands",
   "language": "python",
   "name": "python3"
  },
  "language_info": {
   "codemirror_mode": {
    "name": "ipython",
    "version": 3
   },
   "file_extension": ".py",
   "mimetype": "text/x-python",
   "name": "python",
   "nbconvert_exporter": "python",
   "pygments_lexer": "ipython3",
   "version": "3.12.2"
  }
 },
 "nbformat": 4,
 "nbformat_minor": 5
}
