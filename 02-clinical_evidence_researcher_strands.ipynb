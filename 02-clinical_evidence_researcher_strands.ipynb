{
 "cells": [
  {
   "cell_type": "markdown",
   "id": "24cee39a-a77d-4493-a532-56935aa07fd8",
   "metadata": {
    "tags": []
   },
   "source": [
    "# Clinical Evidence Researcher Agent with Strands\n",
    "In this notebook we create the clinical evidence researcher agent using the open-source Strands agents framework"
   ]
  },
  {
   "cell_type": "markdown",
   "id": "3c401dd7-dd66-44cd-a02a-fcdd95d98605",
   "metadata": {},
   "source": [
    "#### Install Strands agents and required dependencies"
   ]
  },
  {
   "cell_type": "code",
   "execution_count": null,
   "id": "install-strands",
   "metadata": {},
   "outputs": [],
   "source": [
    "%pip install strands-agents strands-agents-tools boto3 requests xmltodict --quiet"
   ]
  },
  {
   "cell_type": "markdown",
   "id": "environment-check",
   "metadata": {},
   "source": [
    "#### Ensure the latest version of boto3 is shown below\n",
    "Ensure the boto3 version printed below is **1.39.3** or higher."
   ]
  },
  {
   "cell_type": "code",
   "execution_count": null,
   "id": "73745fd0-9df8-4f95-b58e-843c958840ac",
   "metadata": {
    "execution": {
     "iopub.execute_input": "2025-07-04T01:30:38.911638Z",
     "iopub.status.busy": "2025-07-04T01:30:38.911317Z",
     "iopub.status.idle": "2025-07-04T01:30:39.657907Z",
     "shell.execute_reply": "2025-07-04T01:30:39.657236Z",
     "shell.execute_reply.started": "2025-07-04T01:30:38.911619Z"
    },
    "tags": []
   },
   "outputs": [],
   "source": [
    "%pip show boto3"
   ]
  },
  {
   "cell_type": "markdown",
   "id": "8ef228e7-54c0-4925-8c06-6d172ab3286c",
   "metadata": {},
   "source": [
    "#### Import required libraries"
   ]
  },
  {
   "cell_type": "code",
   "execution_count": null,
   "id": "a9244da2",
   "metadata": {},
   "outputs": [],
   "source": [
    "from utils.magic_helper import register_cell_magic"
   ]
  },
  {
   "cell_type": "code",
   "execution_count": null,
   "id": "ae4b0cf3-76bf-4287-9b40-cc14566ebf8b",
   "metadata": {
    "execution": {
     "iopub.execute_input": "2025-07-04T01:50:07.011716Z",
     "iopub.status.busy": "2025-07-04T01:50:07.011370Z",
     "iopub.status.idle": "2025-07-04T01:50:07.061405Z",
     "shell.execute_reply": "2025-07-04T01:50:07.060859Z",
     "shell.execute_reply.started": "2025-07-04T01:50:07.011690Z"
    },
    "tags": []
   },
   "outputs": [],
   "source": [
    "%%write_and_run clinical_research_agent.py\n",
    "\n",
    "import os\n",
    "import boto3\n",
    "import json\n",
    "import uuid\n",
    "import requests\n",
    "from typing import Dict, Any, List\n",
    "from strands import Agent, tool\n",
    "from strands.models import BedrockModel\n",
    "from strands_tools import retrieve\n",
    "\n",
    "from utils.PubMed import PubMed\n",
    "\n",
    "# Initialize KB tool variable\n",
    "kb_tool = None\n",
    "\n",
    "# Get AWS account information\n",
    "sts_client = boto3.client('sts')\n",
    "account_id = sts_client.get_caller_identity()['Account']\n",
    "region = boto3.Session().region_name"
   ]
  },
  {
   "cell_type": "markdown",
   "id": "8c5ecfce-78c8-4721-a4e6-35a7745d8871",
   "metadata": {
    "tags": []
   },
   "source": [
    "# Prerequisites\n",
    "\n",
    "This notebook assumes that you have deployed the CloudFormation stack located at https://github.com/aws-samples/amazon-bedrock-agents-cancer-biomarker-discovery to your AWS account in workshop mode."
   ]
  },
  {
   "cell_type": "markdown",
   "id": "setup-lambda",
   "metadata": {},
   "source": [
    "#### Setup AWS clients\n",
    "Define the clients to AWS services that will be used by tools."
   ]
  },
  {
   "cell_type": "code",
   "execution_count": null,
   "id": "lambda-config",
   "metadata": {
    "execution": {
     "iopub.execute_input": "2025-07-04T01:50:09.092063Z",
     "iopub.status.busy": "2025-07-04T01:50:09.091734Z",
     "iopub.status.idle": "2025-07-04T01:50:09.106074Z",
     "shell.execute_reply": "2025-07-04T01:50:09.105512Z",
     "shell.execute_reply.started": "2025-07-04T01:50:09.092043Z"
    }
   },
   "outputs": [],
   "source": [
    "%%write_and_run -a clinical_research_agent.py\n",
    "\n",
    "# Initialize AWS clients\n",
    "bedrock_client = boto3.client('bedrock-runtime', region_name=region)\n",
    "bedrock_agent_client = boto3.client(\"bedrock-agent\", region_name=region)\n",
    "\n",
    "print(f\"Region: {region}\")\n",
    "print(f\"Account ID: {account_id}\")"
   ]
  },
  {
   "cell_type": "markdown",
   "id": "kb-setup",
   "metadata": {},
   "source": [
    "#### Setup Knowledge Base for internal evidence retrieval"
   ]
  },
  {
   "cell_type": "code",
   "execution_count": null,
   "id": "kb-config",
   "metadata": {
    "execution": {
     "iopub.execute_input": "2025-07-04T01:50:10.772321Z",
     "iopub.status.busy": "2025-07-04T01:50:10.771977Z",
     "iopub.status.idle": "2025-07-04T01:50:10.859484Z",
     "shell.execute_reply": "2025-07-04T01:50:10.858894Z",
     "shell.execute_reply.started": "2025-07-04T01:50:10.772288Z"
    }
   },
   "outputs": [],
   "source": [
    "%%write_and_run -a clinical_research_agent.py\n",
    "\n",
    "# Find the Knowledge Base\n",
    "response = bedrock_agent_client.list_knowledge_bases()\n",
    "\n",
    "# Iterate through knowledge bases and find needed one\n",
    "ncbi_kb_id = None\n",
    "for kb in response['knowledgeBaseSummaries']:\n",
    "    kb_name = kb['name']\n",
    "    if 'ncbiKnowledgebase' in kb_name:\n",
    "        ncbi_kb_id = kb['knowledgeBaseId']\n",
    "        break\n",
    "\n",
    "if ncbi_kb_id:\n",
    "    print(f\"Found Knowledge Base ID: {ncbi_kb_id}\")\n",
    "    os.environ[\"KNOWLEDGE_BASE_ID\"] = ncbi_kb_id\n",
    "    print(\"Knowledge Base will be integrated using direct Strands tool approach\")\n",
    "else:\n",
    "    print(\"Warning: Knowledge Base not found. Internal evidence retrieval may not work.\")\n",
    "    ncbi_kb_id = None"
   ]
  },
  {
   "cell_type": "markdown",
   "id": "96053d0a-6dfd-4623-aea4-d7eaedc6dc63",
   "metadata": {
    "tags": []
   },
   "source": [
    "# Strands Agent Creation\n",
    "In this section we create the agent using the Strands framework"
   ]
  },
  {
   "cell_type": "markdown",
   "id": "3e974c4f-200d-499a-ba94-70de02a88486",
   "metadata": {},
   "source": [
    "#### Define agent configuration and instructions"
   ]
  },
  {
   "cell_type": "code",
   "execution_count": null,
   "id": "11e88b67-5f84-45be-90af-673c11730230",
   "metadata": {
    "execution": {
     "iopub.execute_input": "2025-07-04T01:50:13.820571Z",
     "iopub.status.busy": "2025-07-04T01:50:13.820227Z",
     "iopub.status.idle": "2025-07-04T01:50:13.825356Z",
     "shell.execute_reply": "2025-07-04T01:50:13.824804Z",
     "shell.execute_reply.started": "2025-07-04T01:50:13.820550Z"
    },
    "tags": []
   },
   "outputs": [],
   "source": [
    "%%write_and_run -a clinical_research_agent.py\n",
    "\n",
    "clinical_research_agent_name = \"Clinical-evidence-researcher-strands\"\n",
    "clinical_research_agent_description = \"Research internal and external evidence using Strands framework\"\n",
    "clinical_research_agent_instruction = \"\"\"You are a medical research assistant AI specialized in summarizing internal and external \n",
    "evidence related to cancer biomarkers. Your primary task is to interpret user queries, gather internal and external \n",
    "evidence, and provide relevant medical insights based on the results. Use only the appropriate tools as required by \n",
    "the specific question. Always use the retrieve knowledge base tool first for internal evidence search. Follow these instructions carefully: \n",
    "\n",
    "1. Use the retrieve tool to search internal evidence. Use the query PubMed tool after you performed a search using the retrieve tool.\n",
    "\n",
    "2. When querying PubMed: \n",
    "   a. Summarize the findings of each relevant study with citations to the specific pubmed web link of the study \n",
    "   b. The json output will include 'Link', 'Title', 'Summary'. \n",
    "   c. Always return the Title and Link (for example, 'https://pubmed.ncbi.nlm.nih.gov/') of each study in your response.  \n",
    "\n",
    "3. For internal evidence, make use of the knowledge base to retrieve relevant information. \n",
    "   Always provide citations to specific content chunks. \n",
    "\n",
    "4. When providing your response: \n",
    "   a. Start with a brief summary of your understanding of the user's query. \n",
    "   b. Explain the steps you're taking to address the query. Ask for clarifications from the user if required. \n",
    "   c. Separate the responses generated from internal evidence (knowledge base) and external evidence (PubMed api).  \n",
    "   d. Conclude with a concise summary of the findings and their potential implications for medical research.\n",
    "\"\"\""
   ]
  },
  {
   "cell_type": "markdown",
   "id": "lambda-tools",
   "metadata": {},
   "source": [
    "#### Define tools for Strands agent\n",
    "These tools will invoke different services to perform operations for the agent"
   ]
  },
  {
   "cell_type": "code",
   "execution_count": null,
   "id": "create-tools",
   "metadata": {
    "execution": {
     "iopub.execute_input": "2025-07-04T01:50:14.461693Z",
     "iopub.status.busy": "2025-07-04T01:50:14.461351Z",
     "iopub.status.idle": "2025-07-04T01:50:14.471731Z",
     "shell.execute_reply": "2025-07-04T01:50:14.471234Z",
     "shell.execute_reply.started": "2025-07-04T01:50:14.461671Z"
    }
   },
   "outputs": [],
   "source": [
    "%%write_and_run -a clinical_research_agent.py\n",
    "\n",
    "# Define the tools using Strands @tool decorator\n",
    "@tool\n",
    "def query_pubmed(query: str) -> str:\n",
    "    \"\"\"\n",
    "    Query PubMed for relevant biomedical literature based on the user's query.\n",
    "    This tool searches PubMed abstracts and returns relevant studies with titles, links, and summaries.\n",
    "    \n",
    "    Args:\n",
    "        query (str): The search query for PubMed\n",
    "    \n",
    "    Returns:\n",
    "        str: JSON string containing PubMed search results with titles, links, and summaries\n",
    "    \"\"\"\n",
    "    \n",
    "    pubmed = PubMed()\n",
    "\n",
    "    print(f\"\\nPubMed Query: {query}\\n\")\n",
    "    result = pubmed.run(query)\n",
    "    print(f\"\\nPubMed Results: {result}\\n\")\n",
    "    return result\n",
    "\n",
    "# Create list of custom tools\n",
    "clinical_research_agent_tools = [query_pubmed, retrieve]\n",
    "print(f\"Created {len(clinical_research_agent_tools)} custom tools for the Strands agent\")"
   ]
  },
  {
   "cell_type": "markdown",
   "id": "create-provider",
   "metadata": {},
   "source": [
    "#### Setup AWS Bedrock provider for Strands"
   ]
  },
  {
   "cell_type": "code",
   "execution_count": null,
   "id": "setup-provider",
   "metadata": {
    "execution": {
     "iopub.execute_input": "2025-07-04T01:50:16.523689Z",
     "iopub.status.busy": "2025-07-04T01:50:16.523363Z",
     "iopub.status.idle": "2025-07-04T01:50:16.589348Z",
     "shell.execute_reply": "2025-07-04T01:50:16.588739Z",
     "shell.execute_reply.started": "2025-07-04T01:50:16.523666Z"
    }
   },
   "outputs": [],
   "source": [
    "%%write_and_run -a clinical_research_agent.py\n",
    "\n",
    "# Create Bedrock model for Strands\n",
    "model = BedrockModel(\n",
    "    model_id=\"anthropic.claude-3-5-sonnet-20241022-v2:0\",\n",
    "    region_name=region,\n",
    "    temperature=0.1,\n",
    "    streaming=False\n",
    ")"
   ]
  },
  {
   "cell_type": "markdown",
   "id": "3d2b94bc-1ed8-4542-9315-1494d76d4445",
   "metadata": {},
   "source": [
    "#### Create the Strands agent"
   ]
  },
  {
   "cell_type": "code",
   "execution_count": null,
   "id": "37eb6515-56ec-4bf5-afc1-99f303add381",
   "metadata": {
    "execution": {
     "iopub.execute_input": "2025-07-04T01:50:18.172665Z",
     "iopub.status.busy": "2025-07-04T01:50:18.172329Z",
     "iopub.status.idle": "2025-07-04T01:50:18.178380Z",
     "shell.execute_reply": "2025-07-04T01:50:18.177850Z",
     "shell.execute_reply.started": "2025-07-04T01:50:18.172640Z"
    },
    "tags": []
   },
   "outputs": [],
   "source": [
    "# Create the Strands agent\n",
    "try:\n",
    "    # Use the custom tools we created\n",
    "    clinical_evidence_agent = Agent(\n",
    "        model=model,\n",
    "        tools=clinical_research_agent_tools,\n",
    "        system_prompt=clinical_research_agent_instruction\n",
    "    )\n",
    "    \n",
    "    print(f\"Successfully created Strands agent: {clinical_research_agent_name}\")\n",
    "    print(f\"Agent has {len(clinical_research_agent_tools)} tools available:\")\n",
    "    for tool in clinical_research_agent_tools:\n",
    "        print(f\"  - {tool.__name__}\")\n",
    "    \n",
    "except Exception as e:\n",
    "    print(f\"Error creating agent: {e}\")\n",
    "    raise"
   ]
  },
  {
   "cell_type": "markdown",
   "id": "test-agent",
   "metadata": {},
   "source": [
    "#### Test the Strands agent"
   ]
  },
  {
   "cell_type": "code",
   "execution_count": null,
   "id": "1f1dbd7b-b9c2-427b-b7e5-23961e64d877",
   "metadata": {
    "execution": {
     "iopub.execute_input": "2025-07-04T01:47:20.353935Z",
     "iopub.status.busy": "2025-07-04T01:47:20.353577Z",
     "iopub.status.idle": "2025-07-04T01:47:50.363057Z",
     "shell.execute_reply": "2025-07-04T01:47:50.362356Z",
     "shell.execute_reply.started": "2025-07-04T01:47:20.353913Z"
    },
    "tags": []
   },
   "outputs": [],
   "source": [
    "# Test the agent with a research query\n",
    "test_query = \"Can you search PubMed for evidence around the effects of biomarker use in oncology on clinical trial failure risk\"\n",
    "\n",
    "print(f\"Testing agent with query: {test_query}\")\n",
    "print(\"=\" * 140)\n",
    "\n",
    "try:\n",
    "    # Run the agent\n",
    "    response = clinical_evidence_agent(test_query)\n",
    "    \n",
    "except Exception as e:\n",
    "    print(f\"Error during agent execution: {e}\")\n",
    "    import traceback\n",
    "    traceback.print_exc()"
   ]
  },
  {
   "cell_type": "markdown",
   "id": "advanced-usage",
   "metadata": {},
   "source": [
    "#### Advanced usage examples"
   ]
  },
  {
   "cell_type": "code",
   "execution_count": null,
   "id": "advanced-examples",
   "metadata": {
    "execution": {
     "iopub.execute_input": "2025-07-04T01:34:24.696675Z",
     "iopub.status.busy": "2025-07-04T01:34:24.696347Z",
     "iopub.status.idle": "2025-07-04T01:35:47.659817Z",
     "shell.execute_reply": "2025-07-04T01:35:47.659206Z",
     "shell.execute_reply.started": "2025-07-04T01:34:24.696652Z"
    },
    "scrolled": true
   },
   "outputs": [],
   "source": [
    "# Example of more complex queries\n",
    "complex_queries = [\n",
    "    \"Search for evidence on LRIG1 biomarker in lung cancer prognosis\",\n",
    "    \"Find studies about biomarker-guided therapy in precision oncology\",\n",
    "    \"What does the internal knowledge base say about molecular phenotypes and imaging?\"\n",
    "]\n",
    "\n",
    "def test_complex_query(query: str):\n",
    "    \"\"\"\n",
    "    Test a complex query with the agent\n",
    "    \"\"\"\n",
    "    print(f\"\\nTesting query: {query}\")\n",
    "    print(\"-\" * 100)\n",
    "    \n",
    "    try:\n",
    "        response = clinical_evidence_agent(query)\n",
    "    except Exception as e:\n",
    "        print(f\"Error: {e}\")\n",
    "\n",
    "for query in complex_queries: \n",
    "    test_complex_query(query)"
   ]
  },
  {
   "cell_type": "markdown",
   "id": "session-management",
   "metadata": {},
   "source": [
    "#### Session management and conversation continuity"
   ]
  },
  {
   "cell_type": "code",
   "execution_count": null,
   "id": "session-demo",
   "metadata": {
    "execution": {
     "iopub.execute_input": "2025-07-04T01:36:00.049466Z",
     "iopub.status.busy": "2025-07-04T01:36:00.049143Z",
     "iopub.status.idle": "2025-07-04T01:36:02.392998Z",
     "shell.execute_reply": "2025-07-04T01:36:02.392466Z",
     "shell.execute_reply.started": "2025-07-04T01:36:00.049443Z"
    }
   },
   "outputs": [],
   "source": [
    "# Demonstrate conversation continuity\n",
    "def interactive_research_session():\n",
    "    \"\"\"\n",
    "    Simple interactive session with the clinical evidence researcher agent\n",
    "    \"\"\"\n",
    "    print(\"Interactive Clinical Evidence Research Session\")\n",
    "    print(\"Ask about biomarkers, clinical trials, or cancer research\")\n",
    "    print(\"Type 'quit' to exit\")\n",
    "    print(\"=\" * 60)\n",
    "    \n",
    "    while True:\n",
    "        user_input = input(\"\\nYour research question: \")\n",
    "        \n",
    "        if user_input.lower() in ['quit', 'exit', 'q']:\n",
    "            print(\"Research session ended.\")\n",
    "            break\n",
    "            \n",
    "        try:\n",
    "            response = clinical_evidence_agent(user_input)                \n",
    "        except Exception as e:\n",
    "            print(f\"Error: {e}\")\n",
    "\n",
    "interactive_research_session()"
   ]
  },
  {
   "cell_type": "markdown",
   "id": "summary",
   "metadata": {},
   "source": [
    "## Summary\n",
    "\n",
    "This notebook demonstrated how to build an agent with Strands framework that connects to a Bedrock Knowledge and to the PubMed APIs.\n",
    "\n",
    "### Benefits of Strands Approach:\n",
    "- **Open source** - No vendor lock-in\n",
    "- **Cost effective** - Only pay for the underlying LLM calls\n",
    "- **Flexible** - Easy to customize and extend\n",
    "\n",
    "### Tools Available:\n",
    "- `query_pubmed`: Searches PubMed for biomedical literature\n",
    "- `KnowledgeBase`: Retrieves internal evidence from the NCBI knowledge base\n",
    "\n",
    "### Research Capabilities:\n",
    "- **Medical literature search** via PubMed API integration\n",
    "- **Internal evidence retrieval** from curated knowledge base\n",
    "- **Comprehensive research synthesis** combining multiple sources\n",
    "- **Citation tracking** with links to original studies\n",
    "- **Biomarker research** specialization for cancer research\n"
   ]
  },
  {
   "cell_type": "markdown",
   "id": "3967a7e4",
   "metadata": {},
   "source": []
  }
 ],
 "metadata": {
  "kernelspec": {
   "display_name": "Python 3 (ipykernel)",
   "language": "python",
   "name": "python3"
  },
  "language_info": {
   "codemirror_mode": {
    "name": "ipython",
    "version": 3
   },
   "file_extension": ".py",
   "mimetype": "text/x-python",
   "name": "python",
   "nbconvert_exporter": "python",
   "pygments_lexer": "ipython3",
   "version": "3.12.9"
  }
 },
 "nbformat": 4,
 "nbformat_minor": 5
}
